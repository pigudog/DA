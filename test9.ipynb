{
 "cells": [
  {
   "cell_type": "code",
   "execution_count": 4,
   "metadata": {},
   "outputs": [],
   "source": [
    "import pandas as pd\n",
    "import numpy as np\n",
    "import scipy.stats as ss\n",
    "import matplotlib.pyplot as plt\n",
    "import seaborn as sns\n",
    "sns.set_context(font_scale = 1.5)\n",
    "df = pd.read_csv(\"HR.csv\")\n",
    "from sklearn.decomposition import PCA \n"
   ]
  },
  {
   "cell_type": "code",
   "execution_count": 9,
   "metadata": {},
   "outputs": [
    {
     "data": {
      "text/plain": [
       "array([[-4.40682814e+01, -6.85590899e-01,  1.20311482e+00, ...,\n",
       "         2.82386023e-01,  3.55935813e-02, -1.86478694e-02],\n",
       "       [ 6.09678054e+01,  2.33866530e+00,  7.74501547e-02, ...,\n",
       "        -2.54640098e-01, -1.45126716e-03, -3.89674130e-02],\n",
       "       [ 7.09804156e+01,  9.11031234e-01, -2.32102014e+00, ...,\n",
       "         3.97179480e-01, -6.55540542e-02,  5.48764427e-03],\n",
       "       ...,\n",
       "       [-5.80674300e+01, -5.95449610e-01,  1.07801005e+00, ...,\n",
       "         2.86439309e-01,  2.37992502e-02, -1.68581374e-02],\n",
       "       [ 7.89697212e+01,  5.88409043e-01, -1.29117353e+00, ...,\n",
       "         4.11515193e-01, -1.76298342e-01,  2.13644348e-02],\n",
       "       [-4.30683528e+01, -6.91952453e-01,  1.21207711e+00, ...,\n",
       "         2.94340839e-01,  4.43804824e-02, -1.97552251e-02]])"
      ]
     },
     "execution_count": 9,
     "metadata": {},
     "output_type": "execute_result"
    }
   ],
   "source": [
    "my_pca = PCA(n_components=7)\n",
    "my_pca.fit_transform(df.drop(labels=[\"left\",\"sales\",\"salary\"],axis=1))"
   ]
  },
  {
   "cell_type": "code",
   "execution_count": 10,
   "metadata": {},
   "outputs": [
    {
     "data": {
      "text/plain": [
       "array([9.98565340e-01, 8.69246970e-04, 4.73865973e-04, 4.96932182e-05,\n",
       "       2.43172315e-05, 9.29496619e-06, 8.24128218e-06])"
      ]
     },
     "execution_count": 10,
     "metadata": {},
     "output_type": "execute_result"
    }
   ],
   "source": [
    "my_pca.explained_variance_ratio_"
   ]
  },
  {
   "cell_type": "code",
   "execution_count": 16,
   "metadata": {},
   "outputs": [],
   "source": [
    "lower_mat = my_pca.fit_transform(df.drop(labels=[\"left\",\"sales\",\"salary\"],axis=1))"
   ]
  },
  {
   "cell_type": "code",
   "execution_count": 17,
   "metadata": {},
   "outputs": [
    {
     "data": {
      "text/plain": [
       "<AxesSubplot:>"
      ]
     },
     "execution_count": 17,
     "metadata": {},
     "output_type": "execute_result"
    },
    {
     "data": {
      "image/png": "[encoded data removed]",
      "text/plain": [
       "<Figure size 432x288 with 2 Axes>"
      ]
     },
     "metadata": {
      "needs_background": "light"
     },
     "output_type": "display_data"
    }
   ],
   "source": [
    "sns.heatmap(pd.DataFrame(lower_mat).corr(),vmin=-1,vmax=1,cmap=sns.color_palette(\"RdBu\",n_colors=128))"
   ]
  }
 ],
 "metadata": {
  "kernelspec": {
   "display_name": "Python 3.10.5 64-bit",
   "language": "python",
   "name": "python3"
  },
  "language_info": {
   "codemirror_mode": {
    "name": "ipython",
    "version": 3
   },
   "file_extension": ".py",
   "mimetype": "text/x-python",
   "name": "python",
   "nbconvert_exporter": "python",
   "pygments_lexer": "ipython3",
   "version": "3.10.5"
  },
  "orig_nbformat": 4,
  "vscode": {
   "interpreter": {
    "hash": "537b928a382ecc1da1b2ff4d48d3aa27b392cceaea5676c08c31c2fea16f125b"
   }
  }
 },
 "nbformat": 4,
 "nbformat_minor": 2
}
