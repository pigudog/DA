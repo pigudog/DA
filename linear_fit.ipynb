{
 "cells": [
  {
   "cell_type": "code",
   "execution_count": 10,
   "metadata": {},
   "outputs": [],
   "source": [
    "import pandas as pd\n",
    "import numpy as np\n",
    "import matplotlib.pyplot as plt\n",
    "import xlrd"
   ]
  },
  {
   "cell_type": "code",
   "execution_count": 1,
   "metadata": {},
   "outputs": [],
   "source": [
    "## read data from excel\n",
    "def read(file):\n",
    "    wb = xlrd.open_workbook(filename=file) #open the file\n",
    "    sheet = wb.sheet_by_index(0) # read the tabulation with index\n",
    "    rows = sheet.nrows ## ge the number of rows\n",
    "    all_content = []\n",
    "    for j in range(0,2): # get 1-2 columns of the data\n",
    "        temp = []\n",
    "        for i in range(1,rows):\n",
    "            cell = sheet.cell_value(i,j) ## get the elements without label(x,y)\n",
    "            temp.append(cell)\n",
    "        all_content.append(temp)\n",
    "        temp =[]\n",
    "    return np.array(all_content)"
   ]
  },
  {
   "cell_type": "code",
   "execution_count": 3,
   "metadata": {},
   "outputs": [],
   "source": [
    "#获得拟合函数并绘制图象\n",
    "def temp1(datas):\n",
    "    x = datas[0]        #获取自变量x\n",
    "    y = datas[1]        #获取因变量y\n",
    "    n = np.size(answer1, axis = 1)  #获取有多少个自变量，axis=1代表获取矩阵的列数\n",
    "    #根据公式计算k\n",
    "    k = (n*np.sum(x*y) - np.sum(x)*np.sum(y)) / (n*np.sum(np.power(x,2)) - np.sum(x) * np.sum(x))   \n",
    "    #根据公式计算b\n",
    "    b = (np.sum(np.power(x,2)) * np.sum(y) -np.sum(x) * np.sum(x*y)) / (n*np.sum(np.power(x,2)) - np.sum(x) * np.sum(x))\n",
    "    las = k*x + b       #根据公式得到拟合函数\n",
    "    fig = plt.figure()  #获得figure对象\n",
    "    ax1 = fig.add_subplot(1,1,1)    #添加一个图纸\n",
    "    ax1.set_xlim([min(x)-0.5, max(x)+0.5])      #设置x轴刻度\n",
    "    ax1.set_ylim([min(y) -0.5, max(y) +0.5])    #设置y轴刻度\n",
    "    plt.plot(x,las,'k',label='拟合函数')    #画出拟合函数\n",
    "    plt.plot(x,y,'o',label = '样本数据')    #画出样本数据\n",
    "    plt.grid()  #添加网格线\n",
    "    ax1.legend(loc = 'best')    #设置图例的位置为最佳best\n",
    "    return [k,b]    #返回k和b\n"
   ]
  },
  {
   "cell_type": "code",
   "execution_count": 4,
   "metadata": {},
   "outputs": [],
   "source": [
    "#通过计算拟合优度评价拟合函数\n",
    "def judge(datas,k,b):\n",
    "    x = datas[0]    #获取自变量x\n",
    "    y = datas[1]    #获取自变量y\n",
    "    z = k * x + b   #得到拟合函数\n",
    "    SST = np.sum(np.power(y - np.average(y),2))     #根据公式计算SST\n",
    "    SSE = np.sum(np.power(y - z, 2))                #根据公式计算SSE\n",
    "    SSR = np.sum(np.power(z - np.average(y),2))     #根据公式计算SSR\n",
    "    R_2 = SSR / SST             #得到R_2\n",
    "    print('k = ',k)\n",
    "    print('b = ',b)\n",
    "    print('SST = ',SST)\n",
    "    print('SSE = ',SSE)\n",
    "    print('SSR = ',SSR)\n",
    "    print('R_2 = ',R_2)\n"
   ]
  },
  {
   "cell_type": "code",
   "execution_count": 16,
   "metadata": {},
   "outputs": [
    {
     "name": "stdout",
     "output_type": "stream",
     "text": [
      "k =  2.09484154875776\n",
      "b =  -1.0547840968126607\n",
      "SST =  156.88631578947368\n",
      "SSE =  5.728062372031907\n",
      "SSR =  151.15825341744255\n",
      "R_2 =  0.9634890886231426\n"
     ]
    },
    {
     "data": {
      "image/png": "[encoded data removed]",
      "text/plain": [
       "<Figure size 640x480 with 1 Axes>"
      ]
     },
     "metadata": {},
     "output_type": "display_data"
    }
   ],
   "source": [
    "answer1 = read(\"linear_fit.xls\")\n",
    "answer2 = temp1(answer1)\n",
    "judge(answer1,answer2[0],answer2[1])"
   ]
  },
  {
   "cell_type": "code",
   "execution_count": 14,
   "metadata": {},
   "outputs": [
    {
     "data": {
      "text/plain": [
       "<xlrd.book.Book at 0x19a6d75a980>"
      ]
     },
     "execution_count": 14,
     "metadata": {},
     "output_type": "execute_result"
    }
   ],
   "source": [
    "wb = xlrd.open_workbook(\"linear_fit.xls\")\n",
    "wb"
   ]
  }
 ],
 "metadata": {
  "kernelspec": {
   "display_name": "Python 3.10.6 64-bit",
   "language": "python",
   "name": "python3"
  },
  "language_info": {
   "codemirror_mode": {
    "name": "ipython",
    "version": 3
   },
   "file_extension": ".py",
   "mimetype": "text/x-python",
   "name": "python",
   "nbconvert_exporter": "python",
   "pygments_lexer": "ipython3",
   "version": "3.10.6"
  },
  "orig_nbformat": 4,
  "vscode": {
   "interpreter": {
    "hash": "e12f081f3b69c47b407a411e35ba4814a2bf694e6a041dab3adb1673ea66113c"
   }
  }
 },
 "nbformat": 4,
 "nbformat_minor": 2
}
