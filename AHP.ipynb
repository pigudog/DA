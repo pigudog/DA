{
 "cells": [
  {
   "cell_type": "markdown",
   "metadata": {},
   "source": [
    "# 1.算数平均值法求权重\n",
    "步骤：\n",
    "1. 判断矩阵按照列求和，得到新矩阵a_axis_0_sum\n",
    "2. 把判断矩阵中的每一个数除以列和，得到新的矩阵b\n",
    "3. 计算新矩阵b的行和，得到新矩阵b_axis_1_sum\n",
    "4. 把b_axis_1_sum每一个值除以总和，获得权重\n",
    "5. 求解最大特征值\n",
    "6. 计算C_R判断矩阵的一致性，如果验证通过就输出结果"
   ]
  },
  {
   "cell_type": "code",
   "execution_count": 4,
   "metadata": {},
   "outputs": [
    {
     "data": {
      "text/plain": [
       "{1: 0,\n",
       " 2: 0,\n",
       " 3: 0.58,\n",
       " 4: 0.9,\n",
       " 5: 1.12,\n",
       " 6: 1.24,\n",
       " 7: 1.32,\n",
       " 8: 1.41,\n",
       " 9: 1.45,\n",
       " 10: 1.49}"
      ]
     },
     "execution_count": 4,
     "metadata": {},
     "output_type": "execute_result"
    }
   ],
   "source": [
    "import numpy as np\n",
    "#  建立平均随机一致性指标R.I\n",
    "RI_dict = {1: 0, 2: 0, 3: 0.58, 4: 0.90, 5: 1.12, 6: 1.24, 7: 1.32, 8: 1.41, 9: 1.45, 10: 1.49}\n",
    "RI_dict"
   ]
  },
  {
   "cell_type": "code",
   "execution_count": 5,
   "metadata": {},
   "outputs": [
    {
     "data": {
      "text/plain": [
       "array([[1.        , 0.33333333, 0.125     ],\n",
       "       [3.        , 1.        , 0.33333333],\n",
       "       [8.        , 3.        , 1.        ]])"
      ]
     },
     "execution_count": 5,
     "metadata": {},
     "output_type": "execute_result"
    }
   ],
   "source": [
    "a = np.array([[1, 1 / 3, 1 / 8], [3, 1, 1 / 3], [8, 3, 1]])\n",
    "a"
   ]
  },
  {
   "cell_type": "code",
   "execution_count": 6,
   "metadata": {},
   "outputs": [
    {
     "name": "stdout",
     "output_type": "stream",
     "text": [
      "[12.          4.33333333  1.45833333]\n"
     ]
    }
   ],
   "source": [
    "print(a.sum(axis=0))## 我们首先验证了一下按照列进行求和的可能性"
   ]
  },
  {
   "cell_type": "code",
   "execution_count": 7,
   "metadata": {},
   "outputs": [
    {
     "data": {
      "text/plain": [
       "array([12.        ,  4.33333333,  1.45833333])"
      ]
     },
     "execution_count": 7,
     "metadata": {},
     "output_type": "execute_result"
    }
   ],
   "source": [
    "sum(a)"
   ]
  },
  {
   "cell_type": "code",
   "execution_count": 8,
   "metadata": {},
   "outputs": [],
   "source": [
    "def get_w(array):\n",
    "    # 1、计算出阶数 看这个数组是几维的 也就是后面对应字典查询！\n",
    "    row = array.shape[0]  \n",
    "    # 2、按列求和\n",
    "    a_axis_0_sum = array.sum(axis=0) \n",
    "    # 3、得到新的矩阵b 就是把每一个数都除以列和 \n",
    "    b = array / a_axis_0_sum  \n",
    "    # 4、计算新矩阵b行和\n",
    "    b_axis_1_sum = b.sum(axis=1)  \n",
    "    # 5、将b_axis_1_sum每一个值除以总和\n",
    "    W = b_axis_1_sum / sum(b_axis_1_sum)\n",
    "    # 6、将原始矩阵乘以W\n",
    "    a_W = np.dot(array, W)\n",
    "    # 7、求解最大特征值 \n",
    "    lambda_max = 0\n",
    "    for i in range(len(a_W)):\n",
    "        lambda_max += (a_W[i] / W[i])\n",
    "    lambda_max = lambda_max / len(a_W)      #求最大特征值\n",
    "    # 8、检验判断矩阵的一致性\n",
    "    C_I = (lambda_max - row) / (row - 1)\n",
    "    R_I = RI_dict[row] \n",
    "    C_R = C_I / R_I \n",
    "    if C_R < 0.1:\n",
    "        print('矩阵 %s 一致性检验通过' % (array))\n",
    "        print('判断矩阵对应的指标的权重为：%s' % W)\n",
    "        print('判断矩阵对应的最大特征值为 %.2f' % lambda_max)\n",
    "        print('大功告成！！！')\n",
    "        return W\n",
    "    else:\n",
    "        print('矩阵 %s 一致性检验未通过，需要重新进行调整判断矩阵' % (array))\n",
    "    \n",
    "def main(array):\n",
    "    if type(array) is np.ndarray:\n",
    "        return get_w(array)\n",
    "    else:\n",
    "        print('请输入正确的numpy对象')"
   ]
  },
  {
   "cell_type": "code",
   "execution_count": 9,
   "metadata": {},
   "outputs": [
    {
     "name": "stdout",
     "output_type": "stream",
     "text": [
      "矩阵 [[1.         0.33333333 0.125     ]\n",
      " [3.         1.         0.33333333]\n",
      " [8.         3.         1.        ]] 一致性检验通过\n",
      "判断矩阵对应的指标的权重为：[0.08199023 0.23644689 0.68156288]\n",
      "判断矩阵对应的最大特征值为 3.00\n",
      "大功告成！！！\n"
     ]
    }
   ],
   "source": [
    "\n",
    "if __name__ == '__main__':\n",
    "    a = np.array([[1, 1 / 3, 1 / 8], [3, 1, 1 / 3], [8, 3, 1]])\n",
    "#    b = np.array([[1, 3, 6], [1 / 3, 1, 4], [1 / 5, 1 / 2, 1]])\n",
    "#    c = np.array([[1, 1, 3], [1, 1, 3], [1 / 3, 1 / 3, 1]])\n",
    "#    d = np.array([[1, 3, 4], [1 / 3, 1, 1], [1 / 4, 1, 1]])\n",
    "#    e = np.array([[1, 2, 7, 5, 5], [1 / 2, 1, 4, 3, 3], [1 / 7, 1 / 4, 1, 1 / 2, 1 / 3], [1 / 5, 1 / 3, 2, 1, 1], [1 / 5, 1 / 3, 3, 1, 1]])\n",
    "#    f = np.array([[1, 4, 1 / 2], [1 / 4, 1, 1 / 4], [2, 4, 1]])\n",
    "    \n",
    "    main(a)\n",
    "#    main(b)\n",
    "#    main(c)\n",
    "#    main(d)\n",
    "#    main(e)\n",
    "#    main(f)\n"
   ]
  },
  {
   "cell_type": "markdown",
   "metadata": {},
   "source": [
    "# 2.几何平均法求权重\n",
    "步骤：\n",
    "\n",
    "    1. 将判断矩阵array的元素按照行相乘得到一个新的列向量\n",
    "    2. 将新的向量的每个分量开n次方\n",
    "    3. 对列向量求和\n",
    "    4. 归一化处理，得到权重\n",
    "    5. 求解最大特征值\n",
    "    6. 计算C_R判断矩阵的一致性，如果检验通过就输出结果"
   ]
  },
  {
   "cell_type": "code",
   "execution_count": 11,
   "metadata": {},
   "outputs": [
    {
     "data": {
      "text/plain": [
       "array([[1. , 2. , 5. ],\n",
       "       [0.5, 1. , 2. ],\n",
       "       [0.2, 0.5, 1. ]])"
      ]
     },
     "execution_count": 11,
     "metadata": {},
     "output_type": "execute_result"
    }
   ],
   "source": [
    " a = np.array([[1,2,5], [1/2,1,2], [1/5,1/2,1]])\n",
    " a"
   ]
  },
  {
   "cell_type": "code",
   "execution_count": 12,
   "metadata": {},
   "outputs": [
    {
     "data": {
      "text/plain": [
       "array([10. ,  1. ,  0.1])"
      ]
     },
     "execution_count": 12,
     "metadata": {},
     "output_type": "execute_result"
    }
   ],
   "source": [
    "np.prod(a,axis=1)"
   ]
  },
  {
   "cell_type": "code",
   "execution_count": 16,
   "metadata": {},
   "outputs": [
    {
     "data": {
      "text/plain": [
       "3"
      ]
     },
     "execution_count": 16,
     "metadata": {},
     "output_type": "execute_result"
    }
   ],
   "source": [
    "np.size(a,1)"
   ]
  },
  {
   "cell_type": "code",
   "execution_count": 17,
   "metadata": {},
   "outputs": [],
   "source": [
    "#  建立平均随机一致性指标R.I\n",
    "RI_dict = {1: 0, 2: 0, 3: 0.58, 4: 0.90, 5: 1.12, 6: 1.24, 7: 1.32, 8: 1.41, 9: 1.45, 10: 1.49}\n",
    "\n",
    "def get_w(array):\n",
    "    row = array.shape[0]    #计算个数\n",
    "    x_list = np.prod(array,axis = 1)        #axis=1，将array的元素按照行相乘得到一个新的列向量\n",
    "    y_list = np.power(x_list, 1/np.size(array,1))   #将新的向量的每个分量开n次方\n",
    "    y_sum = y_list.sum(axis=0)      #对列向量求和\n",
    "    answer_sum = y_list/y_sum       #归一化处理，得到权重\n",
    "    a,b=np.linalg.eig(array)        #a是特征值数组，b是特征值向量\n",
    "    lambda_max=np.max(a)            #求最大特征值\n",
    "    # 8、检验判断矩阵的一致性\n",
    "    C_I = (lambda_max - row) / (row - 1)\n",
    "    R_I = RI_dict[row]\n",
    "    C_R = C_I / R_I \n",
    "    if C_R < 0.1:\n",
    "        print('矩阵 %s 一致性检验通过' % (array))\n",
    "        print('判断矩阵对应的指标的权重为：%s' % answer_sum)\n",
    "        print('判断矩阵对应的最大特征值为 %.2f' % lambda_max)\n",
    "        print('大功告成！！！')\n",
    "        return answer_sum\n",
    "    else:\n",
    "        print('矩阵 %s 一致性检验未通过，需要重新进行调整判断矩阵' % (array))\n",
    "    \n",
    "def main(array):\n",
    "    if type(array) is np.ndarray:\n",
    "        return get_w(array)\n",
    "    else:\n",
    "        print('请输入正确的numpy对象')"
   ]
  },
  {
   "cell_type": "code",
   "execution_count": 18,
   "metadata": {},
   "outputs": [
    {
     "name": "stdout",
     "output_type": "stream",
     "text": [
      "矩阵 [[1.  2.  5. ]\n",
      " [0.5 1.  2. ]\n",
      " [0.2 0.5 1. ]] 一致性检验通过\n",
      "判断矩阵对应的指标的权重为：[0.59537902 0.27635046 0.12827052]\n",
      "判断矩阵对应的最大特征值为 3.01\n",
      "大功告成！！！\n"
     ]
    },
    {
     "name": "stderr",
     "output_type": "stream",
     "text": [
      "C:\\Users\\zyy\\AppData\\Local\\Temp\\ipykernel_24968\\1947695195.py:19: ComplexWarning: Casting complex values to real discards the imaginary part\n",
      "  print('判断矩阵对应的最大特征值为 %.2f' % lambda_max)\n"
     ]
    }
   ],
   "source": [
    "if __name__ == '__main__':\n",
    "    # 由于地方问题，矩阵我就写成一行了\n",
    "    # 检验以下判断矩阵的一致性并输出权重\n",
    "    a = np.array([[1,2,5], [1/2,1,2], [1/5,1/2,1]])\n",
    "    b = np.array([[1, 3, 6], [1 / 3, 1, 4], [1 / 5, 1 / 2, 1]])\n",
    "    c = np.array([[1, 1, 3], [1, 1, 3], [1 / 3, 1 / 3, 1]])\n",
    "    d = np.array([[1, 3, 4], [1 / 3, 1, 1], [1 / 4, 1, 1]])\n",
    "    e = np.array([[1, 2, 7, 5, 5], [1 / 2, 1, 4, 3, 3], [1 / 7, 1 / 4, 1, 1 / 2, 1 / 3], [1 / 5, 1 / 3, 2, 1, 1], [1 / 5, 1 / 3, 3, 1, 1]])\n",
    "    f = np.array([[1, 4, 1 / 2], [1 / 4, 1, 1 / 4], [2, 4, 1]])\n",
    "    \n",
    "    main(a)\n",
    "#    main(b)\n",
    "#    main(c)\n",
    "#    main(d)\n",
    "#    main(e)\n",
    "#    main(f)"
   ]
  },
  {
   "cell_type": "markdown",
   "metadata": {},
   "source": [
    "# 3.特征值法\n",
    "    1. 求出判断矩阵array的最大特征值以及特征向量\n",
    "    2. 求解最大特征值\n",
    "    3. 计算C_R判断矩阵的一致性，如果检验通过就继续下一步\n",
    "    4. 对求出的特征向量进行归一化处理，即可得到权重"
   ]
  },
  {
   "cell_type": "code",
   "execution_count": 19,
   "metadata": {},
   "outputs": [
    {
     "data": {
      "text/plain": [
       "array([[1. , 2. , 5. ],\n",
       "       [0.5, 1. , 2. ],\n",
       "       [0.2, 0.5, 1. ]])"
      ]
     },
     "execution_count": 19,
     "metadata": {},
     "output_type": "execute_result"
    }
   ],
   "source": [
    "a"
   ]
  },
  {
   "cell_type": "code",
   "execution_count": 21,
   "metadata": {},
   "outputs": [
    {
     "name": "stdout",
     "output_type": "stream",
     "text": [
      "[ 3.00553511e+00+0.j         -2.76755587e-03+0.12895082j\n",
      " -2.76755587e-03-0.12895082j]\n"
     ]
    }
   ],
   "source": [
    "list_a,eig_a = np.linalg.eig(a)\n",
    "print(list_a)"
   ]
  },
  {
   "cell_type": "code",
   "execution_count": 22,
   "metadata": {},
   "outputs": [
    {
     "data": {
      "text/plain": [
       "array([[-0.89021421+0.j        , -0.89021421+0.j        ,\n",
       "        -0.89021421-0.j        ],\n",
       "       [-0.41320083+0.j        ,  0.20660042+0.35784242j,\n",
       "         0.20660042-0.35784242j],\n",
       "       [-0.19179084+0.j        ,  0.09589542-0.16609574j,\n",
       "         0.09589542+0.16609574j]])"
      ]
     },
     "execution_count": 22,
     "metadata": {},
     "output_type": "execute_result"
    }
   ],
   "source": [
    "eig_a"
   ]
  },
  {
   "cell_type": "code",
   "execution_count": null,
   "metadata": {},
   "outputs": [],
   "source": []
  },
  {
   "cell_type": "code",
   "execution_count": null,
   "metadata": {},
   "outputs": [],
   "source": [
    "import numpy as np\n",
    "\n",
    "#  建立平均随机一致性指标R.I\n",
    "RI_dict = {1: 0, 2: 0, 3: 0.58, 4: 0.90, 5: 1.12, 6: 1.24, 7: 1.32, 8: 1.41, 9: 1.45, 10: 1.49}\n",
    "\n",
    "def get_w(array):\n",
    "    row = array.shape[0]    #计算个数\n",
    "    a,b=np.linalg.eig(array)        #a是特征值数组，b是特征值矩阵\n",
    "    lambda_max=np.max(a)            #求最大特征值\n",
    "     #8、检验判断矩阵的一致性\n",
    "    C_I = (lambda_max - row) / (row - 1)\n",
    "    R_I = RI_dict[row]\n",
    "    C_R = C_I / R_I \n",
    "    if C_R < 0.1:\n",
    "        x = b[:,0].sum(axis=0)      #对列向量求和，对于第一列求和\n",
    "        y = b[:,0]/x\t\t\t#第一列进行归一化处理\n",
    "        print('矩阵 %s 一致性检验通过' % (array))\n",
    "        print('判断矩阵对应的指标的权重为：%s' % y)\n",
    "        print('判断矩阵对应的最大特征值为 %.2f' % lambda_max)\n",
    "        print('大功告成！！！')\n",
    "        return y\n",
    "    else:\n",
    "        print('矩阵 %s 一致性检验未通过，需要重新进行调整判断矩阵' % (array))\n",
    "    \n",
    "def main(array):\n",
    "    if type(array) is np.ndarray:\n",
    "        return get_w(array)\n",
    "    else:\n",
    "        print('请输入正确的numpy对象')\n",
    "\n",
    "\n",
    "if __name__ == '__main__':\n",
    "    # 由于地方问题，矩阵我就写成一行了\n",
    "    # 检验以下判断矩阵的一致性并输出权重\n",
    "    a = np.array([[1,2,5], [1/2,1,2], [1/5,1/2,1]])\n",
    "#    b = np.array([[1, 3, 6], [1 / 3, 1, 4], [1 / 5, 1 / 2, 1]])\n",
    "#    c = np.array([[1, 1, 3], [1, 1, 3], [1 / 3, 1 / 3, 1]])\n",
    "#    d = np.array([[1, 3, 4], [1 / 3, 1, 1], [1 / 4, 1, 1]])\n",
    "#    e = np.array([[1, 2, 7, 5, 5], [1 / 2, 1, 4, 3, 3], [1 / 7, 1 / 4, 1, 1 / 2, 1 / 3], [1 / 5, 1 / 3, 2, 1, 1], [1 / 5, 1 / 3, 3, 1, 1]])\n",
    "#    f = np.array([[1, 4, 1 / 2], [1 / 4, 1, 1 / 4], [2, 4, 1]])\n",
    "    \n",
    "    main(a)\n",
    "#    main(b)\n",
    "#    main(c)\n",
    "#    main(d)\n",
    "#    main(e)\n",
    "#    main(f)"
   ]
  }
 ],
 "metadata": {
  "kernelspec": {
   "display_name": "Python 3.10.6 64-bit",
   "language": "python",
   "name": "python3"
  },
  "language_info": {
   "codemirror_mode": {
    "name": "ipython",
    "version": 3
   },
   "file_extension": ".py",
   "mimetype": "text/x-python",
   "name": "python",
   "nbconvert_exporter": "python",
   "pygments_lexer": "ipython3",
   "version": "3.10.6"
  },
  "orig_nbformat": 4,
  "vscode": {
   "interpreter": {
    "hash": "e12f081f3b69c47b407a411e35ba4814a2bf694e6a041dab3adb1673ea66113c"
   }
  }
 },
 "nbformat": 4,
 "nbformat_minor": 2
}
