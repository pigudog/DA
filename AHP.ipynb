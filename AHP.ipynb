{
 "cells": [
  {
   "cell_type": "markdown",
   "metadata": {},
   "source": [
    "# 1.算数平均值法求权重\n",
    "步骤：\n",
    "1. 判断矩阵按照列求和，得到新矩阵a_axis_0_sum\n",
    "2. 把判断矩阵中的每一个数除以列和，得到新的矩阵b\n",
    "3. 计算新矩阵b的行和，得到新矩阵b_axis_1_sum\n",
    "4. 把b_axis_1_sum每一个值除以总和，获得权重\n",
    "5. 求解最大特征值\n",
    "6. 计算C_R判断矩阵的一致性，如果验证通过就输出结果"
   ]
  },
  {
   "cell_type": "code",
   "execution_count": 1,
   "metadata": {},
   "outputs": [
    {
     "data": {
      "text/plain": [
       "{1: 0,\n",
       " 2: 0,\n",
       " 3: 0.58,\n",
       " 4: 0.9,\n",
       " 5: 1.12,\n",
       " 6: 1.24,\n",
       " 7: 1.32,\n",
       " 8: 1.41,\n",
       " 9: 1.45,\n",
       " 10: 1.49}"
      ]
     },
     "execution_count": 1,
     "metadata": {},
     "output_type": "execute_result"
    }
   ],
   "source": [
    "import numpy as np\n",
    "#  建立平均随机一致性指标R.I\n",
    "RI_dict = {1: 0, 2: 0, 3: 0.58, 4: 0.90, 5: 1.12, 6: 1.24, 7: 1.32, 8: 1.41, 9: 1.45, 10: 1.49}\n",
    "RI_dict"
   ]
  },
  {
   "cell_type": "code",
   "execution_count": 3,
   "metadata": {},
   "outputs": [
    {
     "data": {
      "text/plain": [
       "array([[1.        , 0.33333333, 0.125     ],\n",
       "       [3.        , 1.        , 0.33333333],\n",
       "       [8.        , 3.        , 1.        ]])"
      ]
     },
     "execution_count": 3,
     "metadata": {},
     "output_type": "execute_result"
    }
   ],
   "source": [
    "a = np.array([[1, 1 / 3, 1 / 8], [3, 1, 1 / 3], [8, 3, 1]])\n",
    "a"
   ]
  },
  {
   "cell_type": "code",
   "execution_count": 4,
   "metadata": {},
   "outputs": [
    {
     "data": {
      "text/plain": [
       "array([12.        ,  4.33333333,  1.45833333])"
      ]
     },
     "execution_count": 4,
     "metadata": {},
     "output_type": "execute_result"
    }
   ],
   "source": [
    "print(a.sum(axis=0))## 我们首先验证了一下按照列进行求和的可能性"
   ]
  },
  {
   "cell_type": "code",
   "execution_count": 5,
   "metadata": {},
   "outputs": [
    {
     "data": {
      "text/plain": [
       "array([12.        ,  4.33333333,  1.45833333])"
      ]
     },
     "execution_count": 5,
     "metadata": {},
     "output_type": "execute_result"
    }
   ],
   "source": [
    "sum(a)"
   ]
  },
  {
   "cell_type": "code",
   "execution_count": null,
   "metadata": {},
   "outputs": [],
   "source": [
    "def get_w(array):\n",
    "    # 1、计算出阶数 看这个数组是几维的 也就是后面对应字典查询！\n",
    "    row = array.shape[0]  \n",
    "    # 2、按列求和\n",
    "    a_axis_0_sum = array.sum(axis=0) \n",
    "    # 3、得到新的矩阵b 就是把每一个数都除以列和 \n",
    "    b = array / a_axis_0_sum  \n",
    "    # 4、计算新矩阵b行和\n",
    "    b_axis_1_sum = b.sum(axis=1)  \n",
    "    # 5、将b_axis_1_sum每一个值除以总和\n",
    "    W = b_axis_1_sum / sum(b_axis_1_sum)\n",
    "    # 6、将原始矩阵乘以W\n",
    "    a_W = np.dot(array, W)\n",
    "    # 7、求解最大特征值 \n",
    "    lambda_max = 0\n",
    "    for i in range(len(a_W)):\n",
    "        lambda_max += (a_W[i] / W[i])\n",
    "    lambda_max = lambda_max / len(a_W)      #求最大特征值\n",
    "    # 8、检验判断矩阵的一致性\n",
    "    C_I = (lambda_max - row) / (row - 1)\n",
    "    R_I = RI_dict[row] \n",
    "    C_R = C_I / R_I \n",
    "    if C_R < 0.1:\n",
    "        print('矩阵 %s 一致性检验通过' % (array))\n",
    "        print('判断矩阵对应的指标的权重为：%s' % W)\n",
    "        print('判断矩阵对应的最大特征值为 %.2f' % lambda_max)\n",
    "        print('大功告成！！！')\n",
    "        return W\n",
    "    else:\n",
    "        print('矩阵 %s 一致性检验未通过，需要重新进行调整判断矩阵' % (array))\n",
    "    \n",
    "def main(array):\n",
    "    if type(array) is np.ndarray:\n",
    "        return get_w(array)\n",
    "    else:\n",
    "        print('请输入正确的numpy对象')"
   ]
  }
 ],
 "metadata": {
  "kernelspec": {
   "display_name": "Python 3.10.6 64-bit",
   "language": "python",
   "name": "python3"
  },
  "language_info": {
   "codemirror_mode": {
    "name": "ipython",
    "version": 3
   },
   "file_extension": ".py",
   "mimetype": "text/x-python",
   "name": "python",
   "nbconvert_exporter": "python",
   "pygments_lexer": "ipython3",
   "version": "3.10.6"
  },
  "orig_nbformat": 4,
  "vscode": {
   "interpreter": {
    "hash": "e12f081f3b69c47b407a411e35ba4814a2bf694e6a041dab3adb1673ea66113c"
   }
  }
 },
 "nbformat": 4,
 "nbformat_minor": 2
}
