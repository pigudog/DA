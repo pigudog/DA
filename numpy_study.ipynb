{
 "cells": [
  {
   "cell_type": "code",
   "execution_count": 2,
   "metadata": {},
   "outputs": [],
   "source": [
    "## 1.导入Numpy \n",
    "import numpy as np"
   ]
  },
  {
   "cell_type": "code",
   "execution_count": 3,
   "metadata": {},
   "outputs": [
    {
     "name": "stdout",
     "output_type": "stream",
     "text": [
      "(array([  0,   1,   4,   9,  16,  25,  36,  49,  64,  81, 100, 121, 144,\n",
      "       169, 196, 225, 256, 289, 324, 361]), array([   0,    1,    8,   27,   64,  125,  216,  343,  512,  729, 1000,\n",
      "       1331, 1728, 2197, 2744, 3375, 4096, 4913, 5832, 6859], dtype=int32), array([   0,    2,   12,   36,   80,  150,  252,  392,  576,  810, 1100,\n",
      "       1452, 1872, 2366, 2940, 3600, 4352, 5202, 6156, 7220]))\n"
     ]
    }
   ],
   "source": [
    "## 2.向量相加\n",
    "def numpysum(n):\n",
    "    a = np.arange(n)**2\n",
    "    b = np.arange(n)**3\n",
    "    c = a+b\n",
    "    return a,b,c\n",
    "print(numpysum(20))"
   ]
  },
  {
   "cell_type": "code",
   "execution_count": 6,
   "metadata": {},
   "outputs": [
    {
     "name": "stdout",
     "output_type": "stream",
     "text": [
      "<class 'numpy.ndarray'>\n",
      "int32\n",
      "(5,)\n"
     ]
    },
    {
     "data": {
      "text/plain": [
       "array([0, 1, 2, 3, 4])"
      ]
     },
     "execution_count": 6,
     "metadata": {},
     "output_type": "execute_result"
    }
   ],
   "source": [
    "## 3.Numpy数组\n",
    "a = np.arange(5)\n",
    "print(type(a)) # 查看a的类型\n",
    "print(a.dtype) # 查看类型-查看的是array元素的类型\n",
    "print(a.shape) # 查看维度\n",
    "a"
   ]
  },
  {
   "cell_type": "code",
   "execution_count": 9,
   "metadata": {},
   "outputs": [
    {
     "name": "stdout",
     "output_type": "stream",
     "text": [
      "[[0 1]\n",
      " [0 1]\n",
      " [0 1]]\n",
      "int32\n",
      "(3, 2)\n"
     ]
    }
   ],
   "source": [
    "# 创建多维数组\n",
    "m = np.array([np.arange(2),np.arange(2),np.arange(2)])\n",
    "print(m)\n",
    "print(m.dtype)\n",
    "print(m.shape)"
   ]
  },
  {
   "cell_type": "code",
   "execution_count": 12,
   "metadata": {},
   "outputs": [
    {
     "name": "stdout",
     "output_type": "stream",
     "text": [
      "(10,)\n",
      "[[0. 0. 0. 0. 0. 0.]\n",
      " [0. 0. 0. 0. 0. 0.]\n",
      " [0. 0. 0. 0. 0. 0.]]\n",
      "[[[1.08648792e-311 2.81617418e-322]\n",
      "  [0.00000000e+000 0.00000000e+000]\n",
      "  [1.06099790e-312 5.64233733e-067]]\n",
      "\n",
      " [[5.02917000e-091 1.08689741e-071]\n",
      "  [6.59153282e-043 8.24558904e-043]\n",
      "  [6.48224659e+170 4.93432906e+257]]]\n",
      "[ 0  1  2  3  4  5  6  7  8  9 10 11 12 13 14]\n"
     ]
    }
   ],
   "source": [
    "# 创建0数组或者空数组\n",
    "print(np.zeros(10)) # 创建全是0的数组\n",
    "print(np.zeros((3,6))) # 创建全是0的多维数组\n",
    "print(np.empty((2,3,2))) # 创建随机值的数组\n",
    "print(np.arange(15)) # 创建普通的数组"
   ]
  },
  {
   "cell_type": "code",
   "execution_count": 16,
   "metadata": {},
   "outputs": [
    {
     "name": "stdout",
     "output_type": "stream",
     "text": [
      "[[1 2]\n",
      " [3 4]]\n",
      "1\n",
      "2\n",
      "3\n",
      "4\n",
      "[1 2]\n"
     ]
    }
   ],
   "source": [
    "# 选取数组元素\n",
    "a = np.array([[1,2],[3,4]]) # 生成二维数组，\n",
    "print(a)\n",
    "print(a[0,0])\n",
    "print(a[0,1])\n",
    "print(a[1,0])\n",
    "print(a[1,1])\n",
    "print(a[0])"
   ]
  },
  {
   "cell_type": "code",
   "execution_count": 20,
   "metadata": {},
   "outputs": [
    {
     "name": "stdout",
     "output_type": "stream",
     "text": [
      "42.0\n",
      "42\n",
      "True\n",
      "1.0\n",
      "0.0\n"
     ]
    },
    {
     "name": "stderr",
     "output_type": "stream",
     "text": [
      "C:\\Users\\zyy\\AppData\\Local\\Temp\\ipykernel_25936\\159361072.py:4: DeprecationWarning: `np.bool` is a deprecated alias for the builtin `bool`. To silence this warning, use `bool` by itself. Doing this will not modify any behavior and is safe. If you specifically wanted the numpy scalar type, use `np.bool_` here.\n",
      "Deprecated in NumPy 1.20; for more details and guidance: https://numpy.org/devdocs/release/1.20.0-notes.html#deprecations\n",
      "  print(np.bool(42))  # 布尔型\n",
      "C:\\Users\\zyy\\AppData\\Local\\Temp\\ipykernel_25936\\159361072.py:5: DeprecationWarning: `np.float` is a deprecated alias for the builtin `float`. To silence this warning, use `float` by itself. Doing this will not modify any behavior and is safe. If you specifically wanted the numpy scalar type, use `np.float64` here.\n",
      "Deprecated in NumPy 1.20; for more details and guidance: https://numpy.org/devdocs/release/1.20.0-notes.html#deprecations\n",
      "  print(np.float(True))\n",
      "C:\\Users\\zyy\\AppData\\Local\\Temp\\ipykernel_25936\\159361072.py:6: DeprecationWarning: `np.float` is a deprecated alias for the builtin `float`. To silence this warning, use `float` by itself. Doing this will not modify any behavior and is safe. If you specifically wanted the numpy scalar type, use `np.float64` here.\n",
      "Deprecated in NumPy 1.20; for more details and guidance: https://numpy.org/devdocs/release/1.20.0-notes.html#deprecations\n",
      "  print(np.float(False))\n"
     ]
    }
   ],
   "source": [
    "## 4.Numpy数据类型\n",
    "print(np.float64(42)) # 64位浮点数\n",
    "print(np.int8(42.0)) # 8位整数\n",
    "print(np.bool(42))  # 布尔型\n",
    "print(np.float(True))\n",
    "print(np.float(False))"
   ]
  },
  {
   "cell_type": "code",
   "execution_count": 25,
   "metadata": {},
   "outputs": [
    {
     "name": "stdout",
     "output_type": "stream",
     "text": [
      "int32\n",
      "float64\n",
      "[ 3.7  -1.2  -2.6   0.5  12.9  10.11]\n",
      "[ 3 -1 -2  0 12 10]\n"
     ]
    }
   ],
   "source": [
    "## 5.数据类型转换\n",
    "arr = np.array([1,2,3,4,5]) # 生成一维数组\n",
    "print(a.dtype)\n",
    "float_arr = arr.astype(np.float64)\n",
    "print(float_arr.dtype)\n",
    "\n",
    "arr = np.array([3.7,-1.2,-2.6,0.5,12.9,10.11])\n",
    "print(arr)\n",
    "print(arr.astype(np.int32))#将浮点数转换为32位整数类型"
   ]
  },
  {
   "cell_type": "code",
   "execution_count": 29,
   "metadata": {},
   "outputs": [
    {
     "name": "stdout",
     "output_type": "stream",
     "text": [
      "[('name', '<U40'), ('numitems', '<i4'), ('price', '<f4')]\n",
      "[('Meaning of life', 42, 3.14) ('Butter', 13, 2.72)]\n",
      "Meaning of life\n"
     ]
    }
   ],
   "source": [
    "## 6.创建自定义数据类型\n",
    "t = np.dtype([('name',np.str_,40),('numitems',np.int32),('price',np.float32)])\n",
    "print(t)\n",
    "itemz = np.array([('Meaning of life',42,3.14),('Butter',13,2.72)],dtype=t)\n",
    "print(itemz)\n",
    "print(itemz[0][0])"
   ]
  },
  {
   "cell_type": "code",
   "execution_count": 31,
   "metadata": {},
   "outputs": [
    {
     "name": "stdout",
     "output_type": "stream",
     "text": [
      "[[1 2 3]\n",
      " [4 5 6]]\n",
      "[[ 1  4  9]\n",
      " [16 25 36]]\n",
      "[[ 1  4  9]\n",
      " [16 25 36]]\n",
      "[[0 0 0]\n",
      " [0 0 0]]\n",
      "[[1.         0.5        0.33333333]\n",
      " [0.25       0.2        0.16666667]]\n",
      "[[1.         1.41421356 1.73205081]\n",
      " [2.         2.23606798 2.44948974]]\n"
     ]
    }
   ],
   "source": [
    "## 7.数组与标量的运算\n",
    "arr = np.array([[1,2,3],[4,5,6]])\n",
    "print(arr)#输出数组\n",
    "print(arr*arr)#数组平方\n",
    "print(arr**2)\n",
    "print(arr-arr)#数组相减\n",
    "print(1/arr)#数组倒数\n",
    "print(arr**0.5)#数组开根号"
   ]
  },
  {
   "cell_type": "code",
   "execution_count": 34,
   "metadata": {},
   "outputs": [
    {
     "name": "stdout",
     "output_type": "stream",
     "text": [
      "[0 1 2 3 4 5 6 7 8]\n",
      "[0 2 4 6]\n",
      "[3 4 5 6]\n",
      "[8 7 6 5 4 3 2 1 0]\n",
      "8\n",
      "[3 5]\n",
      "[8 7 6 5 4 3 2 1 0]\n"
     ]
    }
   ],
   "source": [
    "## 8.一维数组的索引和切片\n",
    "a = np.arange(9)\n",
    "print(a)\n",
    "print(a[:7:2])#选取（0，6），隔两个选取\n",
    "print(a[3:7])#选取（3，6）\n",
    "print(a[::-1])#从末尾到头逐一选取\n",
    "print(a[-1])\n",
    "\n",
    "s = slice(3,7,2)#另一种切片方式\n",
    "print(a[s])\n",
    "\n",
    "s=slice(None, None, -1)#从末尾到头逐一选取\n",
    "print(a[s])"
   ]
  },
  {
   "cell_type": "code",
   "execution_count": 36,
   "metadata": {},
   "outputs": [
    {
     "name": "stdout",
     "output_type": "stream",
     "text": [
      "(2, 3, 4)\n",
      "[[[ 0  1  2  3]\n",
      "  [ 4  5  6  7]\n",
      "  [ 8  9 10 11]]\n",
      "\n",
      " [[12 13 14 15]\n",
      "  [16 17 18 19]\n",
      "  [20 21 22 23]]]\n",
      "0\n",
      "[ 0 12]\n",
      "[[ 0  1  2  3]\n",
      " [ 4  5  6  7]\n",
      " [ 8  9 10 11]]\n",
      "[[ 0  1  2  3]\n",
      " [ 4  5  6  7]\n",
      " [ 8  9 10 11]]\n",
      "[[ 0  1  2  3]\n",
      " [ 4  5  6  7]\n",
      " [ 8  9 10 11]]\n",
      "[4 5 6 7]\n",
      "[4 6]\n"
     ]
    }
   ],
   "source": [
    "## 9.多维数组的索引与切片\n",
    "b= np.arange(24).reshape(2,3,4)#创建一个三维数组\n",
    "print(b.shape)#查看维度\n",
    "print(b)\n",
    "\n",
    "print(b[0,0,0])#获得0层0行0列的数据\n",
    "print(b[:,0,0])#获得每一层0行0列的数据\n",
    "print(b[0])#获得0层的数据\n",
    "print(b[0,:,:])#获得0层的数据\n",
    "print(b[0,...])#获得0层的数据\n",
    "print(b[0,1])#获得0层1行的数据\n",
    "print(b[0,1,::2])#获得0层1行每一列的数据，逐2选取"
   ]
  },
  {
   "cell_type": "code",
   "execution_count": 39,
   "metadata": {},
   "outputs": [
    {
     "name": "stdout",
     "output_type": "stream",
     "text": [
      "['Bob' 'Joe' 'Will' 'Bob' 'Will' 'Joe' 'Joe']\n",
      "[[-0.48669892 -0.74303893 -0.51534483 -1.39172196]\n",
      " [-0.014419    0.90210859 -0.25657407 -0.97040167]\n",
      " [-1.07038954  0.85138702  0.19612623 -1.13383257]\n",
      " [-0.23000766  1.35733018  1.2376333  -0.17897652]\n",
      " [ 0.04684496  0.95076155 -0.79327814 -0.77349091]\n",
      " [-1.8807609   0.56517609  0.88570096  0.35190682]\n",
      " [ 0.14216949 -1.31221391  1.44597564 -1.00575968]]\n",
      "[ True False False  True False False False]\n",
      "[[-0.48669892 -0.74303893 -0.51534483 -1.39172196]\n",
      " [-0.23000766  1.35733018  1.2376333  -0.17897652]]\n",
      "[[-0.51534483 -1.39172196]\n",
      " [ 1.2376333  -0.17897652]]\n",
      "[False  True  True False  True  True  True]\n",
      "[ True False  True  True  True False False]\n",
      "[[-0.48669892 -0.74303893 -0.51534483 -1.39172196]\n",
      " [-1.07038954  0.85138702  0.19612623 -1.13383257]\n",
      " [-0.23000766  1.35733018  1.2376333  -0.17897652]\n",
      " [ 0.04684496  0.95076155 -0.79327814 -0.77349091]]\n",
      "[[0.         0.         0.         0.        ]\n",
      " [0.         0.90210859 0.         0.        ]\n",
      " [0.         0.85138702 0.19612623 0.        ]\n",
      " [0.         1.35733018 1.2376333  0.        ]\n",
      " [0.04684496 0.95076155 0.         0.        ]\n",
      " [0.         0.56517609 0.88570096 0.35190682]\n",
      " [0.14216949 0.         1.44597564 0.        ]]\n",
      "[[7.         7.         7.         7.        ]\n",
      " [0.         0.90210859 0.         0.        ]\n",
      " [7.         7.         7.         7.        ]\n",
      " [7.         7.         7.         7.        ]\n",
      " [7.         7.         7.         7.        ]\n",
      " [0.         0.56517609 0.88570096 0.35190682]\n",
      " [0.14216949 0.         1.44597564 0.        ]]\n"
     ]
    }
   ],
   "source": [
    "## 10.布尔型索引\n",
    "names=np.array(['Bob','Joe','Will','Bob','Will','Joe','Joe'])#布尔型数组\n",
    "data=np.random.randn(7,4)#生成二维的正态分布数据\n",
    "print(names)\n",
    "print(data)\n",
    "print(names == 'Bob')#查看names数组中的每一个元素是否为Bob，返回一个布尔型数组\n",
    "print(data[names == 'Bob'])#显示数组中为True的行\n",
    "print(data[names == 'Bob',2:])\n",
    "print(names != 'Bob')#查看names数组中的每一个元素是否为Bob，返回一个布尔型数组\n",
    "mask = (names == 'Bob') | (names == 'Will')#查看names数组中的每一个元素是否为Bob或Will，返回一个布尔型数组\n",
    "print(mask)\n",
    "print(data[mask])\n",
    "\n",
    "data[data < 0] = 0#将数组中小于0的数修改为0\n",
    "print(data)\n",
    "\n",
    "data[names != 'Joe'] = 7#将数组中对应Joe的数据修改为7\n",
    "print(data)\n"
   ]
  }
 ],
 "metadata": {
  "kernelspec": {
   "display_name": "Python 3.10.6 64-bit",
   "language": "python",
   "name": "python3"
  },
  "language_info": {
   "codemirror_mode": {
    "name": "ipython",
    "version": 3
   },
   "file_extension": ".py",
   "mimetype": "text/x-python",
   "name": "python",
   "nbconvert_exporter": "python",
   "pygments_lexer": "ipython3",
   "version": "3.10.6"
  },
  "orig_nbformat": 4,
  "vscode": {
   "interpreter": {
    "hash": "e12f081f3b69c47b407a411e35ba4814a2bf694e6a041dab3adb1673ea66113c"
   }
  }
 },
 "nbformat": 4,
 "nbformat_minor": 2
}
