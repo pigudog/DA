{
 "cells": [
  {
   "cell_type": "code",
   "execution_count": 2,
   "metadata": {},
   "outputs": [],
   "source": [
    "## 1.导入Numpy \n",
    "import numpy as np"
   ]
  },
  {
   "cell_type": "code",
   "execution_count": 3,
   "metadata": {},
   "outputs": [
    {
     "name": "stdout",
     "output_type": "stream",
     "text": [
      "(array([  0,   1,   4,   9,  16,  25,  36,  49,  64,  81, 100, 121, 144,\n",
      "       169, 196, 225, 256, 289, 324, 361]), array([   0,    1,    8,   27,   64,  125,  216,  343,  512,  729, 1000,\n",
      "       1331, 1728, 2197, 2744, 3375, 4096, 4913, 5832, 6859], dtype=int32), array([   0,    2,   12,   36,   80,  150,  252,  392,  576,  810, 1100,\n",
      "       1452, 1872, 2366, 2940, 3600, 4352, 5202, 6156, 7220]))\n"
     ]
    }
   ],
   "source": [
    "## 2.向量相加\n",
    "def numpysum(n):\n",
    "    a = np.arange(n)**2\n",
    "    b = np.arange(n)**3\n",
    "    c = a+b\n",
    "    return a,b,c\n",
    "print(numpysum(20))"
   ]
  },
  {
   "cell_type": "code",
   "execution_count": 4,
   "metadata": {},
   "outputs": [
    {
     "name": "stdout",
     "output_type": "stream",
     "text": [
      "<class 'numpy.ndarray'>\n",
      "int32\n",
      "(5,)\n"
     ]
    },
    {
     "data": {
      "text/plain": [
       "array([0, 1, 2, 3, 4])"
      ]
     },
     "execution_count": 4,
     "metadata": {},
     "output_type": "execute_result"
    }
   ],
   "source": [
    "## 3.Numpy数组\n",
    "a = np.arange(5)\n",
    "print(type(a)) # 查看a的类型\n",
    "print(a.dtype) # 查看类型-查看的是array元素的类型\n",
    "print(a.shape) # 查看维度\n",
    "a"
   ]
  },
  {
   "cell_type": "code",
   "execution_count": 5,
   "metadata": {},
   "outputs": [
    {
     "name": "stdout",
     "output_type": "stream",
     "text": [
      "[[0 1]\n",
      " [0 1]\n",
      " [0 1]]\n",
      "int32\n",
      "(3, 2)\n"
     ]
    }
   ],
   "source": [
    "# 创建多维数组\n",
    "m = np.array([np.arange(2),np.arange(2),np.arange(2)])\n",
    "print(m)\n",
    "print(m.dtype)\n",
    "print(m.shape)"
   ]
  },
  {
   "cell_type": "code",
   "execution_count": 6,
   "metadata": {},
   "outputs": [
    {
     "name": "stdout",
     "output_type": "stream",
     "text": [
      "[0. 0. 0. 0. 0. 0. 0. 0. 0. 0.]\n",
      "[[0. 0. 0. 0. 0. 0.]\n",
      " [0. 0. 0. 0. 0. 0.]\n",
      " [0. 0. 0. 0. 0. 0.]]\n",
      "[[[1.01855798e-312 1.06099790e-312]\n",
      "  [1.01855798e-312 9.54898106e-313]\n",
      "  [1.06099790e-312 1.01855798e-312]]\n",
      "\n",
      " [[1.23075756e-312 1.20953760e-312]\n",
      "  [1.10343781e-312 9.76118064e-313]\n",
      "  [1.10343781e-312 1.90979621e-312]]]\n",
      "[ 0  1  2  3  4  5  6  7  8  9 10 11 12 13 14]\n"
     ]
    }
   ],
   "source": [
    "# 创建0数组或者空数组\n",
    "print(np.zeros(10)) # 创建全是0的数组\n",
    "print(np.zeros((3,6))) # 创建全是0的多维数组\n",
    "print(np.empty((2,3,2))) # 创建随机值的数组\n",
    "print(np.arange(15)) # 创建普通的数组"
   ]
  },
  {
   "cell_type": "code",
   "execution_count": 7,
   "metadata": {},
   "outputs": [
    {
     "name": "stdout",
     "output_type": "stream",
     "text": [
      "[[1 2]\n",
      " [3 4]]\n",
      "1\n",
      "2\n",
      "3\n",
      "4\n",
      "[1 2]\n"
     ]
    }
   ],
   "source": [
    "# 选取数组元素\n",
    "a = np.array([[1,2],[3,4]]) # 生成二维数组，\n",
    "print(a)\n",
    "print(a[0,0])\n",
    "print(a[0,1])\n",
    "print(a[1,0])\n",
    "print(a[1,1])\n",
    "print(a[0])"
   ]
  },
  {
   "cell_type": "code",
   "execution_count": 8,
   "metadata": {},
   "outputs": [
    {
     "name": "stdout",
     "output_type": "stream",
     "text": [
      "42.0\n",
      "42\n",
      "True\n",
      "1.0\n",
      "0.0\n"
     ]
    },
    {
     "name": "stderr",
     "output_type": "stream",
     "text": [
      "C:\\Users\\84119891\\AppData\\Local\\Temp\\ipykernel_17480\\159361072.py:4: DeprecationWarning: `np.bool` is a deprecated alias for the builtin `bool`. To silence this warning, use `bool` by itself. Doing this will not modify any behavior and is safe. If you specifically wanted the numpy scalar type, use `np.bool_` here.\n",
      "Deprecated in NumPy 1.20; for more details and guidance: https://numpy.org/devdocs/release/1.20.0-notes.html#deprecations\n",
      "  print(np.bool(42))  # 布尔型\n",
      "C:\\Users\\84119891\\AppData\\Local\\Temp\\ipykernel_17480\\159361072.py:5: DeprecationWarning: `np.float` is a deprecated alias for the builtin `float`. To silence this warning, use `float` by itself. Doing this will not modify any behavior and is safe. If you specifically wanted the numpy scalar type, use `np.float64` here.\n",
      "Deprecated in NumPy 1.20; for more details and guidance: https://numpy.org/devdocs/release/1.20.0-notes.html#deprecations\n",
      "  print(np.float(True))\n",
      "C:\\Users\\84119891\\AppData\\Local\\Temp\\ipykernel_17480\\159361072.py:6: DeprecationWarning: `np.float` is a deprecated alias for the builtin `float`. To silence this warning, use `float` by itself. Doing this will not modify any behavior and is safe. If you specifically wanted the numpy scalar type, use `np.float64` here.\n",
      "Deprecated in NumPy 1.20; for more details and guidance: https://numpy.org/devdocs/release/1.20.0-notes.html#deprecations\n",
      "  print(np.float(False))\n"
     ]
    }
   ],
   "source": [
    "## 4.Numpy数据类型\n",
    "print(np.float64(42)) # 64位浮点数\n",
    "print(np.int8(42.0)) # 8位整数\n",
    "print(np.bool(42))  # 布尔型\n",
    "print(np.float(True))\n",
    "print(np.float(False))"
   ]
  },
  {
   "cell_type": "code",
   "execution_count": 9,
   "metadata": {},
   "outputs": [
    {
     "name": "stdout",
     "output_type": "stream",
     "text": [
      "int32\n",
      "float64\n",
      "[ 3.7  -1.2  -2.6   0.5  12.9  10.11]\n",
      "[ 3 -1 -2  0 12 10]\n"
     ]
    }
   ],
   "source": [
    "## 5.数据类型转换\n",
    "arr = np.array([1,2,3,4,5]) # 生成一维数组\n",
    "print(a.dtype)\n",
    "float_arr = arr.astype(np.float64)\n",
    "print(float_arr.dtype)\n",
    "\n",
    "arr = np.array([3.7,-1.2,-2.6,0.5,12.9,10.11])\n",
    "print(arr)\n",
    "print(arr.astype(np.int32))#将浮点数转换为32位整数类型"
   ]
  },
  {
   "cell_type": "code",
   "execution_count": 10,
   "metadata": {},
   "outputs": [
    {
     "name": "stdout",
     "output_type": "stream",
     "text": [
      "[('name', '<U40'), ('numitems', '<i4'), ('price', '<f4')]\n",
      "[('Meaning of life', 42, 3.14) ('Butter', 13, 2.72)]\n",
      "Meaning of life\n"
     ]
    }
   ],
   "source": [
    "## 6.创建自定义数据类型\n",
    "t = np.dtype([('name',np.str_,40),('numitems',np.int32),('price',np.float32)])\n",
    "print(t)\n",
    "itemz = np.array([('Meaning of life',42,3.14),('Butter',13,2.72)],dtype=t)\n",
    "print(itemz)\n",
    "print(itemz[0][0])"
   ]
  },
  {
   "cell_type": "code",
   "execution_count": 11,
   "metadata": {},
   "outputs": [
    {
     "name": "stdout",
     "output_type": "stream",
     "text": [
      "[[1 2 3]\n",
      " [4 5 6]]\n",
      "[[ 1  4  9]\n",
      " [16 25 36]]\n",
      "[[ 1  4  9]\n",
      " [16 25 36]]\n",
      "[[0 0 0]\n",
      " [0 0 0]]\n",
      "[[1.         0.5        0.33333333]\n",
      " [0.25       0.2        0.16666667]]\n",
      "[[1.         1.41421356 1.73205081]\n",
      " [2.         2.23606798 2.44948974]]\n"
     ]
    }
   ],
   "source": [
    "## 7.数组与标量的运算\n",
    "arr = np.array([[1,2,3],[4,5,6]])\n",
    "print(arr)#输出数组\n",
    "print(arr*arr)#数组平方\n",
    "print(arr**2)\n",
    "print(arr-arr)#数组相减\n",
    "print(1/arr)#数组倒数\n",
    "print(arr**0.5)#数组开根号"
   ]
  },
  {
   "cell_type": "code",
   "execution_count": 12,
   "metadata": {},
   "outputs": [
    {
     "name": "stdout",
     "output_type": "stream",
     "text": [
      "[0 1 2 3 4 5 6 7 8]\n",
      "[0 2 4 6]\n",
      "[3 4 5 6]\n",
      "[8 7 6 5 4 3 2 1 0]\n",
      "8\n",
      "[3 5]\n",
      "[8 7 6 5 4 3 2 1 0]\n"
     ]
    }
   ],
   "source": [
    "## 8.一维数组的索引和切片\n",
    "a = np.arange(9)\n",
    "print(a)\n",
    "print(a[:7:2])#选取（0，6），隔两个选取\n",
    "print(a[3:7])#选取（3，6）\n",
    "print(a[::-1])#从末尾到头逐一选取\n",
    "print(a[-1])\n",
    "\n",
    "s = slice(3,7,2)#另一种切片方式\n",
    "print(a[s])\n",
    "\n",
    "s=slice(None, None, -1)#从末尾到头逐一选取\n",
    "print(a[s])"
   ]
  },
  {
   "cell_type": "code",
   "execution_count": 13,
   "metadata": {},
   "outputs": [
    {
     "name": "stdout",
     "output_type": "stream",
     "text": [
      "(2, 3, 4)\n",
      "[[[ 0  1  2  3]\n",
      "  [ 4  5  6  7]\n",
      "  [ 8  9 10 11]]\n",
      "\n",
      " [[12 13 14 15]\n",
      "  [16 17 18 19]\n",
      "  [20 21 22 23]]]\n",
      "0\n",
      "[ 0 12]\n",
      "[[ 0  1  2  3]\n",
      " [ 4  5  6  7]\n",
      " [ 8  9 10 11]]\n",
      "[[ 0  1  2  3]\n",
      " [ 4  5  6  7]\n",
      " [ 8  9 10 11]]\n",
      "[[ 0  1  2  3]\n",
      " [ 4  5  6  7]\n",
      " [ 8  9 10 11]]\n",
      "[4 5 6 7]\n",
      "[4 6]\n"
     ]
    }
   ],
   "source": [
    "## 9.多维数组的索引与切片\n",
    "b= np.arange(24).reshape(2,3,4)#创建一个三维数组\n",
    "print(b.shape)#查看维度\n",
    "print(b)\n",
    "\n",
    "print(b[0,0,0])#获得0层0行0列的数据\n",
    "print(b[:,0,0])#获得每一层0行0列的数据\n",
    "print(b[0])#获得0层的数据\n",
    "print(b[0,:,:])#获得0层的数据\n",
    "print(b[0,...])#获得0层的数据\n",
    "print(b[0,1])#获得0层1行的数据\n",
    "print(b[0,1,::2])#获得0层1行每一列的数据，逐2选取"
   ]
  },
  {
   "cell_type": "code",
   "execution_count": 14,
   "metadata": {},
   "outputs": [
    {
     "name": "stdout",
     "output_type": "stream",
     "text": [
      "['Bob' 'Joe' 'Will' 'Bob' 'Will' 'Joe' 'Joe']\n",
      "[[-1.05569052  0.41218796  0.09618417  0.21833082]\n",
      " [ 0.0535923  -0.84922429  0.05103831  1.50961427]\n",
      " [ 1.70527558 -0.82400507 -0.92931208  1.09536844]\n",
      " [-1.05594146  0.04560667 -0.55508708 -0.16224705]\n",
      " [-0.55199079  0.08498632 -0.43118972  0.47091864]\n",
      " [-0.86448708 -2.51199844  0.06424726 -1.25969941]\n",
      " [ 1.71161199 -0.77457957 -0.13837268 -0.16193279]]\n"
     ]
    }
   ],
   "source": [
    "## 10.布尔型索引\n",
    "names=np.array(['Bob','Joe','Will','Bob','Will','Joe','Joe'])#布尔型数组此时还不是布尔型\n",
    "data=np.random.randn(7,4)#生成二维的正态分布数据\n",
    "print(names)\n",
    "print(data)"
   ]
  },
  {
   "cell_type": "code",
   "execution_count": 18,
   "metadata": {},
   "outputs": [
    {
     "name": "stdout",
     "output_type": "stream",
     "text": [
      "[ True False False  True False False False]\n",
      "[False  True  True False  True  True  True]\n"
     ]
    }
   ],
   "source": [
    "print(names == \"Bob\") # 返回的是一个布尔型数组\n",
    "print(names != \"Bob\")"
   ]
  },
  {
   "cell_type": "code",
   "execution_count": 16,
   "metadata": {},
   "outputs": [
    {
     "name": "stdout",
     "output_type": "stream",
     "text": [
      "[[-1.05569052  0.41218796  0.09618417  0.21833082]\n",
      " [-1.05594146  0.04560667 -0.55508708 -0.16224705]]\n"
     ]
    }
   ],
   "source": [
    "print(data[names == \"Bob\"]) # 这证明了python先进行的是列运算"
   ]
  },
  {
   "cell_type": "code",
   "execution_count": 17,
   "metadata": {},
   "outputs": [
    {
     "name": "stdout",
     "output_type": "stream",
     "text": [
      "[[ 0.09618417  0.21833082]\n",
      " [-0.55508708 -0.16224705]]\n"
     ]
    }
   ],
   "source": [
    "print(data[names == \"Bob\",2:]) # 第二个元素往后"
   ]
  },
  {
   "cell_type": "code",
   "execution_count": 21,
   "metadata": {},
   "outputs": [
    {
     "name": "stdout",
     "output_type": "stream",
     "text": [
      "[ True False  True  True  True False False]\n",
      "[[-1.05569052  0.41218796  0.09618417  0.21833082]\n",
      " [ 1.70527558 -0.82400507 -0.92931208  1.09536844]\n",
      " [-1.05594146  0.04560667 -0.55508708 -0.16224705]\n",
      " [-0.55199079  0.08498632 -0.43118972  0.47091864]]\n"
     ]
    }
   ],
   "source": [
    "# 有多个条件的时候\n",
    "cond = (names == \"Bob\") | (names == \"Will\")\n",
    "print(cond)\n",
    "print(data[cond])"
   ]
  },
  {
   "cell_type": "code",
   "execution_count": 22,
   "metadata": {},
   "outputs": [
    {
     "name": "stdout",
     "output_type": "stream",
     "text": [
      "[[0.         0.41218796 0.09618417 0.21833082]\n",
      " [0.0535923  0.         0.05103831 1.50961427]\n",
      " [1.70527558 0.         0.         1.09536844]\n",
      " [0.         0.04560667 0.         0.        ]\n",
      " [0.         0.08498632 0.         0.47091864]\n",
      " [0.         0.         0.06424726 0.        ]\n",
      " [1.71161199 0.         0.         0.        ]]\n",
      "[[7.         7.         7.         7.        ]\n",
      " [0.0535923  0.         0.05103831 1.50961427]\n",
      " [7.         7.         7.         7.        ]\n",
      " [7.         7.         7.         7.        ]\n",
      " [7.         7.         7.         7.        ]\n",
      " [0.         0.         0.06424726 0.        ]\n",
      " [1.71161199 0.         0.         0.        ]]\n"
     ]
    }
   ],
   "source": [
    "data[data < 0] = 0#将数组中小于0的数修改为0\n",
    "print(data)\n",
    "\n",
    "data[names != 'Joe'] = 7#将数组中对应Joe的数据修改为7\n",
    "print(data)"
   ]
  },
  {
   "cell_type": "code",
   "execution_count": 23,
   "metadata": {},
   "outputs": [
    {
     "name": "stdout",
     "output_type": "stream",
     "text": [
      "[[ 0  1  2  3  4]\n",
      " [ 5  6  7  8  9]\n",
      " [10 11 12 13 14]]\n",
      "[[ 0  5 10]\n",
      " [ 1  6 11]\n",
      " [ 2  7 12]\n",
      " [ 3  8 13]\n",
      " [ 4  9 14]]\n"
     ]
    }
   ],
   "source": [
    "## 11.数组转置\n",
    "arr = np.arange(15).reshape((3,5)) # 可以理解为切成一段段，然后沿axis=0的方向排列\n",
    "print(arr)\n",
    "print(arr.T)"
   ]
  },
  {
   "cell_type": "code",
   "execution_count": null,
   "metadata": {},
   "outputs": [],
   "source": [
    "## 12.改变数组的维度\n",
    "print(arr)\n",
    "print(arr.flatten())#将数组变回一维数组\n",
    "print(arr.ravel())#将数组变回一位数组\n",
    "arr.shape = (2,5,2)#将数组变为2*5*2的数组\n",
    "print(arr)"
   ]
  },
  {
   "cell_type": "code",
   "execution_count": 26,
   "metadata": {},
   "outputs": [
    {
     "data": {
      "text/plain": [
       "array([[0, 1, 2],\n",
       "       [3, 4, 5],\n",
       "       [6, 7, 8]])"
      ]
     },
     "execution_count": 26,
     "metadata": {},
     "output_type": "execute_result"
    }
   ],
   "source": [
    "## 13.组合数组\n",
    "a = np.arange(9).reshape(3,3)\n",
    "# 我们这儿注意到，reshape可以不输入一个元组，直接输入shape的大小也是可以的\n",
    "a"
   ]
  },
  {
   "cell_type": "code",
   "execution_count": 28,
   "metadata": {},
   "outputs": [
    {
     "data": {
      "text/plain": [
       "array([[ 0,  2,  4],\n",
       "       [ 6,  8, 10],\n",
       "       [12, 14, 16]])"
      ]
     },
     "execution_count": 28,
     "metadata": {},
     "output_type": "execute_result"
    }
   ],
   "source": [
    "b = 2*a\n",
    "b"
   ]
  },
  {
   "cell_type": "code",
   "execution_count": 29,
   "metadata": {},
   "outputs": [
    {
     "name": "stdout",
     "output_type": "stream",
     "text": [
      "[[ 0  1  2  0  2  4]\n",
      " [ 3  4  5  6  8 10]\n",
      " [ 6  7  8 12 14 16]]\n",
      "[[ 0  1  2  0  2  4]\n",
      " [ 3  4  5  6  8 10]\n",
      " [ 6  7  8 12 14 16]]\n"
     ]
    }
   ],
   "source": [
    "#水平组合\n",
    "print(np.hstack((a,b))) # horizontal\n",
    "print(np.concatenate((a,b),axis=1))"
   ]
  },
  {
   "cell_type": "code",
   "execution_count": 30,
   "metadata": {},
   "outputs": [
    {
     "name": "stdout",
     "output_type": "stream",
     "text": [
      "[[ 0  1  2]\n",
      " [ 3  4  5]\n",
      " [ 6  7  8]\n",
      " [ 0  2  4]\n",
      " [ 6  8 10]\n",
      " [12 14 16]]\n",
      "[[ 0  1  2]\n",
      " [ 3  4  5]\n",
      " [ 6  7  8]\n",
      " [ 0  2  4]\n",
      " [ 6  8 10]\n",
      " [12 14 16]]\n"
     ]
    }
   ],
   "source": [
    "#垂直组合\n",
    "print(np.vstack((a,b))) # vertical\n",
    "print(np.concatenate((a,b),axis=0))"
   ]
  },
  {
   "cell_type": "code",
   "execution_count": 33,
   "metadata": {},
   "outputs": [
    {
     "name": "stdout",
     "output_type": "stream",
     "text": [
      "[[0 1 2]\n",
      " [3 4 5]\n",
      " [6 7 8]]\n",
      "[[ 0  2  4]\n",
      " [ 6  8 10]\n",
      " [12 14 16]]\n",
      "a和b的深度结合？\n",
      "[[[ 0  0]\n",
      "  [ 1  2]\n",
      "  [ 2  4]]\n",
      "\n",
      " [[ 3  6]\n",
      "  [ 4  8]\n",
      "  [ 5 10]]\n",
      "\n",
      " [[ 6 12]\n",
      "  [ 7 14]\n",
      "  [ 8 16]]]\n",
      "(3, 3, 2)\n"
     ]
    }
   ],
   "source": [
    "#深度组合\n",
    "print(a)\n",
    "print(b)\n",
    "print(\"a和b的深度结合？\")\n",
    "deepstack = np.dstack((a,b))\n",
    "print(deepstack)\n",
    "print(deepstack.shape)"
   ]
  },
  {
   "cell_type": "code",
   "execution_count": 36,
   "metadata": {},
   "outputs": [
    {
     "name": "stdout",
     "output_type": "stream",
     "text": [
      "[[0 0]\n",
      " [1 2]]\n",
      "[[0 1]\n",
      " [0 2]]\n",
      "<class 'numpy.ndarray'>\n"
     ]
    }
   ],
   "source": [
    "oned = np.arange(2)\n",
    "twice_oned =2*oned#数组*2\n",
    "print(np.column_stack((oned,twice_oned)))#按列组合数组\n",
    "print(np.row_stack((oned,twice_oned)))#按行组合数组\n",
    "# 我们可以很明显地看到，row_stack与vstack的不同之处，row_stack意味着将array\n",
    "# 进行组合，vstack意味着将两个矩阵上下组合\n",
    "print(type(np.row_stack((oned,twice_oned))))"
   ]
  },
  {
   "cell_type": "code",
   "execution_count": 37,
   "metadata": {},
   "outputs": [
    {
     "name": "stdout",
     "output_type": "stream",
     "text": [
      "[array([[0],\n",
      "       [3],\n",
      "       [6]]), array([[1],\n",
      "       [4],\n",
      "       [7]]), array([[2],\n",
      "       [5],\n",
      "       [8]])]\n",
      "[array([[0],\n",
      "       [3],\n",
      "       [6]]), array([[1],\n",
      "       [4],\n",
      "       [7]]), array([[2],\n",
      "       [5],\n",
      "       [8]])]\n",
      "[array([[0, 1, 2]]), array([[3, 4, 5]]), array([[6, 7, 8]])]\n",
      "[array([[0, 1, 2]]), array([[3, 4, 5]]), array([[6, 7, 8]])]\n",
      "<class 'list'>\n"
     ]
    }
   ],
   "source": [
    "## 16.数组的分割\n",
    "a = np.arange(9).reshape(3,3)\n",
    "print(np.hsplit(a,3))#水平分割\n",
    "print(np.split(a,3,axis=1))#axis=1代表水平分割\n",
    "\n",
    "print(np.vsplit(a,3))#垂直分割\n",
    "print(np.split(a,3,axis=0))#axis=0代表垂直分割\n",
    "\n",
    "## 可以看出返回值的类型是一个列表，列表中的元素是划分开的数组\n",
    "print(type(np.hsplit(a,3)))"
   ]
  },
  {
   "cell_type": "code",
   "execution_count": 47,
   "metadata": {},
   "outputs": [
    {
     "name": "stdout",
     "output_type": "stream",
     "text": [
      "(3, 1)\n",
      "[[0]\n",
      " [3]\n",
      " [6]]\n",
      "[0]\n",
      "0\n",
      "(1, 3)\n",
      "[[0 1 2]]\n",
      "[0 1 2]\n",
      "0\n"
     ]
    }
   ],
   "source": [
    "hsplit_res = np.hsplit(a,3)\n",
    "print(hsplit_res[0].shape)\n",
    "print(hsplit_res[0])\n",
    "print(hsplit_res[0][0])\n",
    "print(hsplit_res[0][0][0])\n",
    "## 这个地方要注意一点，split之后，array[0]并不是数组0\n",
    "\n",
    "vsplit_res = np.vsplit(a,3)\n",
    "print(vsplit_res[0].shape)\n",
    "print(vsplit_res[0])\n",
    "print(vsplit_res[0][0])\n",
    "print(vsplit_res[0][0][0])"
   ]
  },
  {
   "cell_type": "code",
   "execution_count": 45,
   "metadata": {},
   "outputs": [
    {
     "name": "stdout",
     "output_type": "stream",
     "text": [
      "2\n",
      "24\n"
     ]
    }
   ],
   "source": [
    "## 16.数组的转化\n",
    "b=np.arange(24).reshape(2,12)#创建一个2*12的数组\n",
    "print(b.ndim)#二维数组的维数\n",
    "print(b.size)#数组中元素的总个数"
   ]
  },
  {
   "cell_type": "code",
   "execution_count": 46,
   "metadata": {},
   "outputs": [
    {
     "name": "stdout",
     "output_type": "stream",
     "text": [
      "[1. 3.]\n",
      "[1. 2.]\n"
     ]
    }
   ],
   "source": [
    "b = np.array([1+1j,3+2j])#创建一个复数数组\n",
    "print(b.real)#实部\n",
    "print(b.imag)#虚部"
   ]
  },
  {
   "cell_type": "code",
   "execution_count": 48,
   "metadata": {},
   "outputs": [
    {
     "name": "stdout",
     "output_type": "stream",
     "text": [
      "[(1+1j), (2+3j)]\n",
      "[1 2]\n",
      "[1.+1.j 2.+3.j]\n"
     ]
    },
    {
     "name": "stderr",
     "output_type": "stream",
     "text": [
      "C:\\Users\\84119891\\AppData\\Local\\Temp\\ipykernel_17480\\4290728674.py:3: ComplexWarning: Casting complex values to real discards the imaginary part\n",
      "  print(b.astype(int))#转换为整数类型\n"
     ]
    }
   ],
   "source": [
    "b = np.array([1+1j,2+3j])\n",
    "print(b.tolist())#转换为python的列表\n",
    "print(b.astype(int))#转换为整数类型\n",
    "print(b.astype(complex))#转换为复数类型"
   ]
  },
  {
   "cell_type": "code",
   "execution_count": 51,
   "metadata": {},
   "outputs": [
    {
     "name": "stdout",
     "output_type": "stream",
     "text": [
      "[[-5.   -4.99 -4.98 ...  4.97  4.98  4.99]\n",
      " [-5.   -4.99 -4.98 ...  4.97  4.98  4.99]\n",
      " [-5.   -4.99 -4.98 ...  4.97  4.98  4.99]\n",
      " ...\n",
      " [-5.   -4.99 -4.98 ...  4.97  4.98  4.99]\n",
      " [-5.   -4.99 -4.98 ...  4.97  4.98  4.99]\n",
      " [-5.   -4.99 -4.98 ...  4.97  4.98  4.99]]\n",
      "[[-5.   -5.   -5.   ... -5.   -5.   -5.  ]\n",
      " [-4.99 -4.99 -4.99 ... -4.99 -4.99 -4.99]\n",
      " [-4.98 -4.98 -4.98 ... -4.98 -4.98 -4.98]\n",
      " ...\n",
      " [ 4.97  4.97  4.97 ...  4.97  4.97  4.97]\n",
      " [ 4.98  4.98  4.98 ...  4.98  4.98  4.98]\n",
      " [ 4.99  4.99  4.99 ...  4.99  4.99  4.99]]\n",
      "(1000, 1000)\n"
     ]
    }
   ],
   "source": [
    "## 17.利用数组进行数据处理\n",
    "points = np.arange(-5,5,0.01)\n",
    "xs, ys = np.meshgrid(points,points)  #分别进行赋值\n",
    "print(xs)\n",
    "print(ys)\n",
    "print(xs.shape)"
   ]
  },
  {
   "cell_type": "code",
   "execution_count": 56,
   "metadata": {},
   "outputs": [
    {
     "data": {
      "text/plain": [
       "[array([[-5.  , -4.99, -4.98, ...,  4.97,  4.98,  4.99],\n",
       "        [-5.  , -4.99, -4.98, ...,  4.97,  4.98,  4.99],\n",
       "        [-5.  , -4.99, -4.98, ...,  4.97,  4.98,  4.99],\n",
       "        ...,\n",
       "        [-5.  , -4.99, -4.98, ...,  4.97,  4.98,  4.99],\n",
       "        [-5.  , -4.99, -4.98, ...,  4.97,  4.98,  4.99],\n",
       "        [-5.  , -4.99, -4.98, ...,  4.97,  4.98,  4.99]]),\n",
       " array([[-5.  , -5.  , -5.  , ..., -5.  , -5.  , -5.  ],\n",
       "        [-4.99, -4.99, -4.99, ..., -4.99, -4.99, -4.99],\n",
       "        [-4.98, -4.98, -4.98, ..., -4.98, -4.98, -4.98],\n",
       "        ...,\n",
       "        [ 4.97,  4.97,  4.97, ...,  4.97,  4.97,  4.97],\n",
       "        [ 4.98,  4.98,  4.98, ...,  4.98,  4.98,  4.98],\n",
       "        [ 4.99,  4.99,  4.99, ...,  4.99,  4.99,  4.99]])]"
      ]
     },
     "execution_count": 56,
     "metadata": {},
     "output_type": "execute_result"
    }
   ],
   "source": [
    "np.meshgrid(points,points)"
   ]
  },
  {
   "cell_type": "code",
   "execution_count": 53,
   "metadata": {},
   "outputs": [
    {
     "name": "stdout",
     "output_type": "stream",
     "text": [
      "[[7.07106781 7.06400028 7.05693985 ... 7.04988652 7.05693985 7.06400028]\n",
      " [7.06400028 7.05692568 7.04985815 ... 7.04279774 7.04985815 7.05692568]\n",
      " [7.05693985 7.04985815 7.04278354 ... 7.03571603 7.04278354 7.04985815]\n",
      " ...\n",
      " [7.04988652 7.04279774 7.03571603 ... 7.0286414  7.03571603 7.04279774]\n",
      " [7.05693985 7.04985815 7.04278354 ... 7.03571603 7.04278354 7.04985815]\n",
      " [7.06400028 7.05692568 7.04985815 ... 7.04279774 7.04985815 7.05692568]]\n",
      "(1000, 1000)\n"
     ]
    }
   ],
   "source": [
    "import matplotlib.pyplot as plt#导入一个画图库\n",
    "z=np.sqrt(xs**2+ys**2)\n",
    "print(z)\n",
    "print(z.shape)"
   ]
  },
  {
   "cell_type": "code",
   "execution_count": 57,
   "metadata": {},
   "outputs": [
    {
     "data": {
      "image/png": "[encoded data removed]",
      "text/plain": [
       "<Figure size 432x288 with 2 Axes>"
      ]
     },
     "metadata": {
      "needs_background": "light"
     },
     "output_type": "display_data"
    }
   ],
   "source": [
    "plt.imshow(z,cmap=plt.cm.gray);plt.colorbar()\n",
    "plt.title(\"Image plot of gray\")\n",
    "plt.show()"
   ]
  },
  {
   "cell_type": "code",
   "execution_count": 58,
   "metadata": {},
   "outputs": [
    {
     "data": {
      "text/plain": [
       "(5,)"
      ]
     },
     "execution_count": 58,
     "metadata": {},
     "output_type": "execute_result"
    }
   ],
   "source": [
    "## 18.将条件逻辑表达为数组运算\n",
    "xarr=np.array([1.1,1.2,1.3,1.4,1.5])\n",
    "yarr=np.array([2.1,2.2,2.3,2.4,2.5])\n",
    "cond=np.array([True,False,True,True,False])\n",
    "cond.shape## 注意，此时的array并没有分出行和列"
   ]
  },
  {
   "cell_type": "code",
   "execution_count": 59,
   "metadata": {},
   "outputs": [
    {
     "name": "stdout",
     "output_type": "stream",
     "text": [
      "[1.1 2.2 1.3 1.4 2.5]\n"
     ]
    }
   ],
   "source": [
    "result=np.where(cond,xarr,yarr)  #如果是True就选择xarr，如果是False就选择yarr\n",
    "print(result)"
   ]
  },
  {
   "cell_type": "code",
   "execution_count": 61,
   "metadata": {},
   "outputs": [
    {
     "name": "stdout",
     "output_type": "stream",
     "text": [
      "[[ 2 -2 -2  2]\n",
      " [ 2 -2  2  2]\n",
      " [-2  2 -2 -2]\n",
      " [ 2 -2  2  2]]\n",
      "[[ 2.         -0.81513048 -0.16526384  2.        ]\n",
      " [ 2.         -1.12317025  2.          2.        ]\n",
      " [-1.13380219  2.         -1.44486671 -0.12705623]\n",
      " [ 2.         -0.18235234  2.          2.        ]]\n"
     ]
    }
   ],
   "source": [
    "arr=np.random.randn(4,4)\n",
    "result=np.where(arr>0,2,-2) #如果大于0就选择2，如果小于0就是-2\n",
    "print(result)\n",
    "result=np.where(arr>0,2,arr)\n",
    "print(result)#如果为False就保持不变\n",
    "## 我们可以看到不仅可以输入数组，还可以输入数字"
   ]
  },
  {
   "cell_type": "code",
   "execution_count": 63,
   "metadata": {},
   "outputs": [
    {
     "name": "stdout",
     "output_type": "stream",
     "text": [
      "44\n",
      "True\n",
      "False\n"
     ]
    }
   ],
   "source": [
    "## 20.用于布尔型数组的方法\n",
    "arr=np.random.randn(100)\n",
    "print((arr > 0).sum()) #正值的数量\n",
    "\n",
    "bools = np.array([False,False,True,False])\n",
    "print(bools.any())  #是否存在一个为真\n",
    "print(bools.all())  #是否都是真的\n"
   ]
  },
  {
   "cell_type": "code",
   "execution_count": 70,
   "metadata": {},
   "outputs": [
    {
     "name": "stdout",
     "output_type": "stream",
     "text": [
      "[-0.68257473 -0.07587431  0.04410145  2.29199751 -0.85627028  1.39488704\n",
      " -0.26717393 -1.4768874 ]\n",
      "[-1.4768874  -0.85627028 -0.68257473 -0.26717393 -0.07587431  0.04410145\n",
      "  1.39488704  2.29199751]\n",
      "<class 'numpy.ndarray'>\n",
      "[-1.4768874  -0.85627028 -0.68257473 -0.26717393 -0.07587431  0.04410145\n",
      "  1.39488704  2.29199751]\n",
      "<class 'numpy.ndarray'>\n"
     ]
    }
   ],
   "source": [
    "## 21.数组排序\n",
    "arr=np.random.randn(8)\n",
    "print(arr)\n",
    "arr.sort()#数组进行排序\n",
    "print(arr)\n",
    "print(type(arr))\n",
    "arr = np.array(arr)\n",
    "print(arr)\n",
    "print(type(arr))"
   ]
  },
  {
   "cell_type": "code",
   "execution_count": 72,
   "metadata": {},
   "outputs": [
    {
     "name": "stdout",
     "output_type": "stream",
     "text": [
      "[[ 0.46716966  0.56372749  2.26061212]\n",
      " [-1.63659975 -1.22915632  0.55640636]\n",
      " [-0.72877692 -0.35799879  1.52407047]\n",
      " [-1.38771039  0.91258338  0.94673731]\n",
      " [-0.0128837  -0.00364946  0.29712367]]\n"
     ]
    }
   ],
   "source": [
    "arr=np.random.randn(5,3)\n",
    "arr.sort(1)#按照行进行排序\n",
    "print(arr)"
   ]
  },
  {
   "cell_type": "code",
   "execution_count": 73,
   "metadata": {},
   "outputs": [
    {
     "name": "stdout",
     "output_type": "stream",
     "text": [
      "['Bob' 'Joe' 'Will']\n",
      "[1 2 3 4 5]\n",
      "[ True False False  True  True False  True]\n"
     ]
    }
   ],
   "source": [
    "## 22.唯一化以及其他的逻辑集合\n",
    "names=np.array(['Bob','Joe','Will','Bob','Joe'])\n",
    "print(np.unique(names))  #返回唯一一个元素\n",
    "ints = np.array([3,3,2,1,4,5,1,3,2])\n",
    "print(np.unique(ints))\n",
    "\n",
    "values=np.array([6,0,0,3,2,5,6])\n",
    "print(np.in1d(values,[2,3,6]))  #一个数组中的元素是否在另一个数组里面\n",
    "# which means in 1-Dimension "
   ]
  },
  {
   "cell_type": "code",
   "execution_count": 74,
   "metadata": {},
   "outputs": [
    {
     "name": "stdout",
     "output_type": "stream",
     "text": [
      "[[ 28  64]\n",
      " [ 67 181]]\n"
     ]
    }
   ],
   "source": [
    "## 23.线性代数\n",
    "x=np.array([[1,2,3],[4,5,6]])\n",
    "y=np.array([[6,23],[-1,7],[8,9]])\n",
    "print(x.dot(y)) #矩阵相乘\n"
   ]
  },
  {
   "cell_type": "code",
   "execution_count": 75,
   "metadata": {},
   "outputs": [
    {
     "name": "stdout",
     "output_type": "stream",
     "text": [
      "[[ 1.61709064  0.24336828 -0.60675574  0.12436065]\n",
      " [ 0.23658776 -2.32543304 -0.44703795 -1.31216874]\n",
      " [ 1.8726913  -0.426734    0.1374559   0.48423063]\n",
      " [ 0.70368367  1.19065294  0.4284072   0.0547478 ]]\n"
     ]
    }
   ],
   "source": [
    "#随机数生成\n",
    "samples = np.random.normal(size=(4,4)) #4*4的随机数服从正态分布\n",
    "print(samples)\n",
    "## rand生成的是均匀分布矩阵，randn生成的是均值为0，标准差为1的矩阵，\n",
    "# 而normal生成的是任意正态分布随机数，意味着均值和标准差都由创建者来指定"
   ]
  }
 ],
 "metadata": {
  "kernelspec": {
   "display_name": "Python 3.10.6 64-bit",
   "language": "python",
   "name": "python3"
  },
  "language_info": {
   "codemirror_mode": {
    "name": "ipython",
    "version": 3
   },
   "file_extension": ".py",
   "mimetype": "text/x-python",
   "name": "python",
   "nbconvert_exporter": "python",
   "pygments_lexer": "ipython3",
   "version": "3.10.6"
  },
  "orig_nbformat": 4,
  "vscode": {
   "interpreter": {
    "hash": "e12f081f3b69c47b407a411e35ba4814a2bf694e6a041dab3adb1673ea66113c"
   }
  }
 },
 "nbformat": 4,
 "nbformat_minor": 2
}
