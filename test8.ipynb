{
 "cells": [
  {
   "cell_type": "code",
   "execution_count": 2,
   "metadata": {},
   "outputs": [],
   "source": [
    "import pandas as pd\n",
    "import numpy as np\n",
    "import scipy.stats as ss\n",
    "import matplotlib.pyplot as plt\n",
    "import seaborn as sns\n",
    "sns.set_context(font_scale = 1.5)\n",
    "df = pd.read_csv(\"HR.csv\")"
   ]
  },
  {
   "cell_type": "code",
   "execution_count": 5,
   "metadata": {},
   "outputs": [
    {
     "data": {
      "text/plain": [
       "<AxesSubplot:>"
      ]
     },
     "execution_count": 5,
     "metadata": {},
     "output_type": "execute_result"
    },
    {
     "data": {
      "image/png": "[encoded data removed]",
      "text/plain": [
       "<Figure size 432x288 with 2 Axes>"
      ]
     },
     "metadata": {
      "needs_background": "light"
     },
     "output_type": "display_data"
    }
   ],
   "source": [
    "sns.heatmap(df.corr(),vmin=-1,vmax=1,cmap=sns.color_palette(\"RdBu\",n_colors=128))\n"
   ]
  },
  {
   "cell_type": "code",
   "execution_count": 14,
   "metadata": {},
   "outputs": [
    {
     "name": "stdout",
     "output_type": "stream",
     "text": [
      "Entropy: 1.0\n"
     ]
    }
   ],
   "source": [
    "s1 = pd.Series([\"X1\",\"X1\",\"X2\",\"X2\",\"X2\",\"X2\"])\n",
    "s2 = pd.Series([\"Y1\",\"Y1\",\"Y1\",\"Y2\",\"Y2\",\"Y2\"])\n",
    "def getEntropy(s):\n",
    "    if not isinstance(s,pd.core.series.Series):\n",
    "        s = pd.Series(s)\n",
    "    prt_ary = s.groupby(by=s).count().values/float(len(s))\n",
    "    return -(np.log2(prt_ary)*prt_ary).sum()\n",
    "print(\"Entropy:\",getEntropy(s2))\n",
    "    "
   ]
  },
  {
   "cell_type": "code",
   "execution_count": 17,
   "metadata": {},
   "outputs": [
    {
     "name": "stdout",
     "output_type": "stream",
     "text": [
      "CondEntropy: 0.4591479170272448\n"
     ]
    }
   ],
   "source": [
    "def getCondEntropy(s1,s2):\n",
    "    d = dict()\n",
    "    for i in list(range(len(s1))):\n",
    "        d[s1[i]] = d.get(s1[i],[])+[s2[i]]\n",
    "    return sum([getEntropy(d[k])*len(d[k])/float(len(s1)) for k in d])\n",
    "print(\"CondEntropy:\",getCondEntropy(s2,s1))"
   ]
  },
  {
   "cell_type": "code",
   "execution_count": 18,
   "metadata": {},
   "outputs": [
    {
     "name": "stdout",
     "output_type": "stream",
     "text": [
      "EntropyGain: 0.4591479170272448\n"
     ]
    }
   ],
   "source": [
    "def getEntropyGain(s1,s2):\n",
    "    return getEntropy(s2)-getCondEntropy(s1,s2)\n",
    "print(\"EntropyGain:\",getEntropyGain(s1,s2))"
   ]
  },
  {
   "cell_type": "code",
   "execution_count": 20,
   "metadata": {},
   "outputs": [
    {
     "name": "stdout",
     "output_type": "stream",
     "text": [
      "EntropyGainRatio 0.5\n"
     ]
    }
   ],
   "source": [
    "def getEntropyGainRatio(s1,s2):\n",
    "    return getEntropyGain(s1,s2)/getEntropy(s2)\n",
    "print(\"EntropyGainRatio\",getEntropyGainRatio(s2,s1))"
   ]
  },
  {
   "cell_type": "code",
   "execution_count": 21,
   "metadata": {},
   "outputs": [
    {
     "name": "stdout",
     "output_type": "stream",
     "text": [
      "DiscreteCorr: 0.4791387674918639\n"
     ]
    }
   ],
   "source": [
    "def getDiscreteCorr(s1,s2):\n",
    "    import math\n",
    "    return getEntropyGain(s1,s2)/math.sqrt(getEntropy(s1)*getEntropy(s2))\n",
    "print(\"DiscreteCorr:\",getDiscreteCorr(s1,s2))"
   ]
  },
  {
   "cell_type": "code",
   "execution_count": 31,
   "metadata": {},
   "outputs": [],
   "source": [
    "## 下面我们尝试实现基尼系数\n",
    "def getProbSS(s):\n",
    "    if not isinstance(s,pd.core.series.Series):\n",
    "        s = pd.Series(s)\n",
    "    prt_arry = s.groupby(by=s).count().values/float(len(s))\n",
    "    return sum(prt_arry**2)"
   ]
  },
  {
   "cell_type": "code",
   "execution_count": 32,
   "metadata": {},
   "outputs": [
    {
     "name": "stdout",
     "output_type": "stream",
     "text": [
      "Gini 0.25\n"
     ]
    }
   ],
   "source": [
    "def getGini(s1,s2):\n",
    "    d = dict()\n",
    "    for i in list(range(len(s1))):\n",
    "        d[s1[i]] = d.get(s1[i],[])+[s2[i]]\n",
    "    return 1- sum([getProbSS(d[k])*len(d[k])/float(len(s1)) for k in d])\n",
    "\n",
    "## Gini系数不是symmetric的\n",
    "print(\"Gini\",getGini(s1,s2))"
   ]
  }
 ],
 "metadata": {
  "kernelspec": {
   "display_name": "Python 3.10.5 64-bit",
   "language": "python",
   "name": "python3"
  },
  "language_info": {
   "codemirror_mode": {
    "name": "ipython",
    "version": 3
   },
   "file_extension": ".py",
   "mimetype": "text/x-python",
   "name": "python",
   "nbconvert_exporter": "python",
   "pygments_lexer": "ipython3",
   "version": "3.10.5"
  },
  "orig_nbformat": 4,
  "vscode": {
   "interpreter": {
    "hash": "537b928a382ecc1da1b2ff4d48d3aa27b392cceaea5676c08c31c2fea16f125b"
   }
  }
 },
 "nbformat": 4,
 "nbformat_minor": 2
}
