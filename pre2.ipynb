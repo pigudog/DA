{
 "cells": [
  {
   "cell_type": "code",
   "execution_count": 1,
   "metadata": {},
   "outputs": [],
   "source": [
    "## 特征选择\n",
    "import pandas as pd\n",
    "import numpy as np\n",
    "import scipy.stats as ss"
   ]
  },
  {
   "cell_type": "code",
   "execution_count": 8,
   "metadata": {},
   "outputs": [],
   "source": [
    "df = pd.DataFrame({\"A\":ss.norm.rvs(size=10),\"B\":ss.norm.rvs(size=10),\"C\":ss.norm.rvs(size=10),\"D\":np.random.randint(low=0,high=2,size=10)})"
   ]
  },
  {
   "cell_type": "code",
   "execution_count": 9,
   "metadata": {},
   "outputs": [
    {
     "data": {
      "text/html": [
       "<div>\n",
       "<style scoped>\n",
       "    .dataframe tbody tr th:only-of-type {\n",
       "        vertical-align: middle;\n",
       "    }\n",
       "\n",
       "    .dataframe tbody tr th {\n",
       "        vertical-align: top;\n",
       "    }\n",
       "\n",
       "    .dataframe thead th {\n",
       "        text-align: right;\n",
       "    }\n",
       "</style>\n",
       "<table border=\"1\" class=\"dataframe\">\n",
       "  <thead>\n",
       "    <tr style=\"text-align: right;\">\n",
       "      <th></th>\n",
       "      <th>A</th>\n",
       "      <th>B</th>\n",
       "      <th>C</th>\n",
       "      <th>D</th>\n",
       "    </tr>\n",
       "  </thead>\n",
       "  <tbody>\n",
       "    <tr>\n",
       "      <th>0</th>\n",
       "      <td>1.239219</td>\n",
       "      <td>-0.825722</td>\n",
       "      <td>1.110227</td>\n",
       "      <td>1</td>\n",
       "    </tr>\n",
       "    <tr>\n",
       "      <th>1</th>\n",
       "      <td>1.256356</td>\n",
       "      <td>-0.469808</td>\n",
       "      <td>-1.865242</td>\n",
       "      <td>1</td>\n",
       "    </tr>\n",
       "    <tr>\n",
       "      <th>2</th>\n",
       "      <td>-0.404472</td>\n",
       "      <td>0.533275</td>\n",
       "      <td>-0.331897</td>\n",
       "      <td>1</td>\n",
       "    </tr>\n",
       "    <tr>\n",
       "      <th>3</th>\n",
       "      <td>0.477849</td>\n",
       "      <td>1.093456</td>\n",
       "      <td>0.564481</td>\n",
       "      <td>1</td>\n",
       "    </tr>\n",
       "    <tr>\n",
       "      <th>4</th>\n",
       "      <td>1.502098</td>\n",
       "      <td>-0.662746</td>\n",
       "      <td>0.154725</td>\n",
       "      <td>0</td>\n",
       "    </tr>\n",
       "    <tr>\n",
       "      <th>5</th>\n",
       "      <td>2.136759</td>\n",
       "      <td>0.475394</td>\n",
       "      <td>1.428132</td>\n",
       "      <td>0</td>\n",
       "    </tr>\n",
       "    <tr>\n",
       "      <th>6</th>\n",
       "      <td>-0.095537</td>\n",
       "      <td>1.506293</td>\n",
       "      <td>-0.768372</td>\n",
       "      <td>0</td>\n",
       "    </tr>\n",
       "    <tr>\n",
       "      <th>7</th>\n",
       "      <td>-1.454003</td>\n",
       "      <td>-0.680083</td>\n",
       "      <td>1.074438</td>\n",
       "      <td>0</td>\n",
       "    </tr>\n",
       "    <tr>\n",
       "      <th>8</th>\n",
       "      <td>-0.938932</td>\n",
       "      <td>1.616372</td>\n",
       "      <td>0.388531</td>\n",
       "      <td>1</td>\n",
       "    </tr>\n",
       "    <tr>\n",
       "      <th>9</th>\n",
       "      <td>-1.202257</td>\n",
       "      <td>0.770339</td>\n",
       "      <td>0.896757</td>\n",
       "      <td>1</td>\n",
       "    </tr>\n",
       "  </tbody>\n",
       "</table>\n",
       "</div>"
      ],
      "text/plain": [
       "          A         B         C  D\n",
       "0  1.239219 -0.825722  1.110227  1\n",
       "1  1.256356 -0.469808 -1.865242  1\n",
       "2 -0.404472  0.533275 -0.331897  1\n",
       "3  0.477849  1.093456  0.564481  1\n",
       "4  1.502098 -0.662746  0.154725  0\n",
       "5  2.136759  0.475394  1.428132  0\n",
       "6 -0.095537  1.506293 -0.768372  0\n",
       "7 -1.454003 -0.680083  1.074438  0\n",
       "8 -0.938932  1.616372  0.388531  1\n",
       "9 -1.202257  0.770339  0.896757  1"
      ]
     },
     "execution_count": 9,
     "metadata": {},
     "output_type": "execute_result"
    }
   ],
   "source": [
    "df\n"
   ]
  },
  {
   "cell_type": "code",
   "execution_count": 10,
   "metadata": {},
   "outputs": [],
   "source": [
    "from sklearn.svm import SVR \n",
    "from sklearn.tree import DecisionTreeRegressor"
   ]
  },
  {
   "cell_type": "code",
   "execution_count": 18,
   "metadata": {},
   "outputs": [
    {
     "data": {
      "text/html": [
       "<div>\n",
       "<style scoped>\n",
       "    .dataframe tbody tr th:only-of-type {\n",
       "        vertical-align: middle;\n",
       "    }\n",
       "\n",
       "    .dataframe tbody tr th {\n",
       "        vertical-align: top;\n",
       "    }\n",
       "\n",
       "    .dataframe thead th {\n",
       "        text-align: right;\n",
       "    }\n",
       "</style>\n",
       "<table border=\"1\" class=\"dataframe\">\n",
       "  <thead>\n",
       "    <tr style=\"text-align: right;\">\n",
       "      <th></th>\n",
       "      <th>A</th>\n",
       "      <th>B</th>\n",
       "      <th>C</th>\n",
       "    </tr>\n",
       "  </thead>\n",
       "  <tbody>\n",
       "    <tr>\n",
       "      <th>0</th>\n",
       "      <td>1.239219</td>\n",
       "      <td>-0.825722</td>\n",
       "      <td>1.110227</td>\n",
       "    </tr>\n",
       "    <tr>\n",
       "      <th>1</th>\n",
       "      <td>1.256356</td>\n",
       "      <td>-0.469808</td>\n",
       "      <td>-1.865242</td>\n",
       "    </tr>\n",
       "    <tr>\n",
       "      <th>2</th>\n",
       "      <td>-0.404472</td>\n",
       "      <td>0.533275</td>\n",
       "      <td>-0.331897</td>\n",
       "    </tr>\n",
       "    <tr>\n",
       "      <th>3</th>\n",
       "      <td>0.477849</td>\n",
       "      <td>1.093456</td>\n",
       "      <td>0.564481</td>\n",
       "    </tr>\n",
       "    <tr>\n",
       "      <th>4</th>\n",
       "      <td>1.502098</td>\n",
       "      <td>-0.662746</td>\n",
       "      <td>0.154725</td>\n",
       "    </tr>\n",
       "    <tr>\n",
       "      <th>5</th>\n",
       "      <td>2.136759</td>\n",
       "      <td>0.475394</td>\n",
       "      <td>1.428132</td>\n",
       "    </tr>\n",
       "    <tr>\n",
       "      <th>6</th>\n",
       "      <td>-0.095537</td>\n",
       "      <td>1.506293</td>\n",
       "      <td>-0.768372</td>\n",
       "    </tr>\n",
       "    <tr>\n",
       "      <th>7</th>\n",
       "      <td>-1.454003</td>\n",
       "      <td>-0.680083</td>\n",
       "      <td>1.074438</td>\n",
       "    </tr>\n",
       "    <tr>\n",
       "      <th>8</th>\n",
       "      <td>-0.938932</td>\n",
       "      <td>1.616372</td>\n",
       "      <td>0.388531</td>\n",
       "    </tr>\n",
       "    <tr>\n",
       "      <th>9</th>\n",
       "      <td>-1.202257</td>\n",
       "      <td>0.770339</td>\n",
       "      <td>0.896757</td>\n",
       "    </tr>\n",
       "  </tbody>\n",
       "</table>\n",
       "</div>"
      ],
      "text/plain": [
       "          A         B         C\n",
       "0  1.239219 -0.825722  1.110227\n",
       "1  1.256356 -0.469808 -1.865242\n",
       "2 -0.404472  0.533275 -0.331897\n",
       "3  0.477849  1.093456  0.564481\n",
       "4  1.502098 -0.662746  0.154725\n",
       "5  2.136759  0.475394  1.428132\n",
       "6 -0.095537  1.506293 -0.768372\n",
       "7 -1.454003 -0.680083  1.074438\n",
       "8 -0.938932  1.616372  0.388531\n",
       "9 -1.202257  0.770339  0.896757"
      ]
     },
     "execution_count": 18,
     "metadata": {},
     "output_type": "execute_result"
    }
   ],
   "source": [
    "X = df.loc[:,[\"A\",\"B\",\"C\"]]\n",
    "X"
   ]
  },
  {
   "cell_type": "code",
   "execution_count": 19,
   "metadata": {},
   "outputs": [
    {
     "data": {
      "text/html": [
       "<div>\n",
       "<style scoped>\n",
       "    .dataframe tbody tr th:only-of-type {\n",
       "        vertical-align: middle;\n",
       "    }\n",
       "\n",
       "    .dataframe tbody tr th {\n",
       "        vertical-align: top;\n",
       "    }\n",
       "\n",
       "    .dataframe thead th {\n",
       "        text-align: right;\n",
       "    }\n",
       "</style>\n",
       "<table border=\"1\" class=\"dataframe\">\n",
       "  <thead>\n",
       "    <tr style=\"text-align: right;\">\n",
       "      <th></th>\n",
       "      <th>D</th>\n",
       "    </tr>\n",
       "  </thead>\n",
       "  <tbody>\n",
       "    <tr>\n",
       "      <th>0</th>\n",
       "      <td>1</td>\n",
       "    </tr>\n",
       "    <tr>\n",
       "      <th>1</th>\n",
       "      <td>1</td>\n",
       "    </tr>\n",
       "    <tr>\n",
       "      <th>2</th>\n",
       "      <td>1</td>\n",
       "    </tr>\n",
       "    <tr>\n",
       "      <th>3</th>\n",
       "      <td>1</td>\n",
       "    </tr>\n",
       "    <tr>\n",
       "      <th>4</th>\n",
       "      <td>0</td>\n",
       "    </tr>\n",
       "    <tr>\n",
       "      <th>5</th>\n",
       "      <td>0</td>\n",
       "    </tr>\n",
       "    <tr>\n",
       "      <th>6</th>\n",
       "      <td>0</td>\n",
       "    </tr>\n",
       "    <tr>\n",
       "      <th>7</th>\n",
       "      <td>0</td>\n",
       "    </tr>\n",
       "    <tr>\n",
       "      <th>8</th>\n",
       "      <td>1</td>\n",
       "    </tr>\n",
       "    <tr>\n",
       "      <th>9</th>\n",
       "      <td>1</td>\n",
       "    </tr>\n",
       "  </tbody>\n",
       "</table>\n",
       "</div>"
      ],
      "text/plain": [
       "   D\n",
       "0  1\n",
       "1  1\n",
       "2  1\n",
       "3  1\n",
       "4  0\n",
       "5  0\n",
       "6  0\n",
       "7  0\n",
       "8  1\n",
       "9  1"
      ]
     },
     "execution_count": 19,
     "metadata": {},
     "output_type": "execute_result"
    }
   ],
   "source": [
    "Y = df.loc[:,[\"D\"]]\n",
    "Y"
   ]
  },
  {
   "cell_type": "code",
   "execution_count": 20,
   "metadata": {},
   "outputs": [],
   "source": [
    "from sklearn.feature_selection import SelectKBest,RFE,SelectFromModel"
   ]
  },
  {
   "cell_type": "code",
   "execution_count": 26,
   "metadata": {},
   "outputs": [
    {
     "name": "stderr",
     "output_type": "stream",
     "text": [
      "d:\\Download\\python\\lib\\site-packages\\sklearn\\utils\\validation.py:993: DataConversionWarning: A column-vector y was passed when a 1d array was expected. Please change the shape of y to (n_samples, ), for example using ravel().\n",
      "  y = column_or_1d(y, warn=True)\n"
     ]
    },
    {
     "data": {
      "text/plain": [
       "array([[ 1.23921914,  1.11022736],\n",
       "       [ 1.25635576, -1.86524204],\n",
       "       [-0.40447195, -0.33189702],\n",
       "       [ 0.47784879,  0.56448094],\n",
       "       [ 1.50209817,  0.15472463],\n",
       "       [ 2.13675883,  1.42813195],\n",
       "       [-0.09553683, -0.76837211],\n",
       "       [-1.45400346,  1.0744381 ],\n",
       "       [-0.93893151,  0.38853123],\n",
       "       [-1.20225664,  0.89675735]])"
      ]
     },
     "execution_count": 26,
     "metadata": {},
     "output_type": "execute_result"
    }
   ],
   "source": [
    "## 过滤思想,去掉相关性差的特征\n",
    "skb = SelectKBest(k=2)\n",
    "skb.fit(X,Y)\n",
    "skb.transform(X)"
   ]
  },
  {
   "cell_type": "code",
   "execution_count": 27,
   "metadata": {},
   "outputs": [
    {
     "name": "stderr",
     "output_type": "stream",
     "text": [
      "d:\\Download\\python\\lib\\site-packages\\sklearn\\utils\\validation.py:993: DataConversionWarning: A column-vector y was passed when a 1d array was expected. Please change the shape of y to (n_samples, ), for example using ravel().\n",
      "  y = column_or_1d(y, warn=True)\n",
      "d:\\Download\\python\\lib\\site-packages\\sklearn\\utils\\validation.py:993: DataConversionWarning: A column-vector y was passed when a 1d array was expected. Please change the shape of y to (n_samples, ), for example using ravel().\n",
      "  y = column_or_1d(y, warn=True)\n"
     ]
    },
    {
     "data": {
      "text/plain": [
       "array([[-0.82572208,  1.11022736],\n",
       "       [-0.46980788, -1.86524204],\n",
       "       [ 0.53327491, -0.33189702],\n",
       "       [ 1.09345629,  0.56448094],\n",
       "       [-0.66274606,  0.15472463],\n",
       "       [ 0.47539389,  1.42813195],\n",
       "       [ 1.50629317, -0.76837211],\n",
       "       [-0.68008301,  1.0744381 ],\n",
       "       [ 1.61637168,  0.38853123],\n",
       "       [ 0.77033878,  0.89675735]])"
      ]
     },
     "execution_count": 27,
     "metadata": {},
     "output_type": "execute_result"
    }
   ],
   "source": [
    "## 包裹思想，构成简单模型，根据系数去掉弱特征\n",
    "#estimator=SVR(kernel=\"linear\")线性回归器  特征选择\n",
    "#n_features_to_select=2,就是最终要选择几个特征\n",
    "#step=1，每迭代一次，要去掉一个特征\n",
    "rfe=RFE(estimator=SVR(kernel=\"linear\"),n_features_to_select=2,step=1)\n",
    "rfe.fit_transform(X,Y)"
   ]
  },
  {
   "cell_type": "code",
   "execution_count": 28,
   "metadata": {},
   "outputs": [
    {
     "data": {
      "text/plain": [
       "array([[ 1.23921914, -0.82572208],\n",
       "       [ 1.25635576, -0.46980788],\n",
       "       [-0.40447195,  0.53327491],\n",
       "       [ 0.47784879,  1.09345629],\n",
       "       [ 1.50209817, -0.66274606],\n",
       "       [ 2.13675883,  0.47539389],\n",
       "       [-0.09553683,  1.50629317],\n",
       "       [-1.45400346, -0.68008301],\n",
       "       [-0.93893151,  1.61637168],\n",
       "       [-1.20225664,  0.77033878]])"
      ]
     },
     "execution_count": 28,
     "metadata": {},
     "output_type": "execute_result"
    }
   ],
   "source": [
    "## 嵌入思想，一般利用回归的方法\n",
    "#SelectFromModel（）必须要有feature_importances和coef_这两个参数才能用\n",
    "#estimator=DecisionTreeRegressor()特征选择\n",
    "#threshold=0.1  重要性因子，低于0.1就会被去掉\n",
    "sfm=SelectFromModel(estimator=DecisionTreeRegressor(),threshold=0.1)\n",
    "sfm.fit_transform(X,Y)\n"
   ]
  },
  {
   "cell_type": "code",
   "execution_count": null,
   "metadata": {},
   "outputs": [],
   "source": []
  }
 ],
 "metadata": {
  "kernelspec": {
   "display_name": "Python 3.10.5 64-bit",
   "language": "python",
   "name": "python3"
  },
  "language_info": {
   "codemirror_mode": {
    "name": "ipython",
    "version": 3
   },
   "file_extension": ".py",
   "mimetype": "text/x-python",
   "name": "python",
   "nbconvert_exporter": "python",
   "pygments_lexer": "ipython3",
   "version": "3.10.5"
  },
  "orig_nbformat": 4,
  "vscode": {
   "interpreter": {
    "hash": "537b928a382ecc1da1b2ff4d48d3aa27b392cceaea5676c08c31c2fea16f125b"
   }
  }
 },
 "nbformat": 4,
 "nbformat_minor": 2
}
